{
 "cells": [
  {
   "cell_type": "code",
   "execution_count": 68,
   "metadata": {},
   "outputs": [],
   "source": [
    "# Import libraries\n",
    "import pandas as pd\n",
    "import numpy as np\n",
    "import matplotlib.pyplot as plt\n",
    "import seaborn as sns\n",
    "\n",
    "from sklearn.model_selection import train_test_split\n",
    "from sklearn.tree import DecisionTreeClassifier\n",
    "from sklearn.metrics import classification_report\n",
    "from sklearn import tree\n"
    "from sklearn.linear_model import LinearRegression"
   ]
  },
  {
   "cell_type": "markdown",
   "metadata": {},
   "source": [
    "# Understanding the Datasets"
   ]
  },
  {
   "cell_type": "code",
   "execution_count": 69,
   "metadata": {},
   "outputs": [
    {
     "data": {
      "text/html": [
       "<div>\n",
       "<style scoped>\n",
       "    .dataframe tbody tr th:only-of-type {\n",
       "        vertical-align: middle;\n",
       "    }\n",
       "\n",
       "    .dataframe tbody tr th {\n",
       "        vertical-align: top;\n",
       "    }\n",
       "\n",
       "    .dataframe thead th {\n",
       "        text-align: right;\n",
       "    }\n",
       "</style>\n",
       "<table border=\"1\" class=\"dataframe\">\n",
       "  <thead>\n",
       "    <tr style=\"text-align: right;\">\n",
       "      <th></th>\n",
       "      <th>Student_ID</th>\n",
       "      <th>Study_Hours_Per_Day</th>\n",
       "      <th>Extracurricular_Hours_Per_Day</th>\n",
       "      <th>Sleep_Hours_Per_Day</th>\n",
       "      <th>Social_Hours_Per_Day</th>\n",
       "      <th>Physical_Activity_Hours_Per_Day</th>\n",
       "      <th>GPA</th>\n",
       "      <th>Stress_Level</th>\n",
       "    </tr>\n",
       "  </thead>\n",
       "  <tbody>\n",
       "    <tr>\n",
       "      <th>0</th>\n",
       "      <td>1</td>\n",
       "      <td>6.9</td>\n",
       "      <td>3.8</td>\n",
       "      <td>8.7</td>\n",
       "      <td>2.8</td>\n",
       "      <td>1.8</td>\n",
       "      <td>2.99</td>\n",
       "      <td>Moderate</td>\n",
       "    </tr>\n",
       "    <tr>\n",
       "      <th>1</th>\n",
       "      <td>2</td>\n",
       "      <td>5.3</td>\n",
       "      <td>3.5</td>\n",
       "      <td>8.0</td>\n",
       "      <td>4.2</td>\n",
       "      <td>3.0</td>\n",
       "      <td>2.75</td>\n",
       "      <td>Low</td>\n",
       "    </tr>\n",
       "    <tr>\n",
       "      <th>2</th>\n",
       "      <td>3</td>\n",
       "      <td>5.1</td>\n",
       "      <td>3.9</td>\n",
       "      <td>9.2</td>\n",
       "      <td>1.2</td>\n",
       "      <td>4.6</td>\n",
       "      <td>2.67</td>\n",
       "      <td>Low</td>\n",
       "    </tr>\n",
       "    <tr>\n",
       "      <th>3</th>\n",
       "      <td>4</td>\n",
       "      <td>6.5</td>\n",
       "      <td>2.1</td>\n",
       "      <td>7.2</td>\n",
       "      <td>1.7</td>\n",
       "      <td>6.5</td>\n",
       "      <td>2.88</td>\n",
       "      <td>Moderate</td>\n",
       "    </tr>\n",
       "    <tr>\n",
       "      <th>4</th>\n",
       "      <td>5</td>\n",
       "      <td>8.1</td>\n",
       "      <td>0.6</td>\n",
       "      <td>6.5</td>\n",
       "      <td>2.2</td>\n",
       "      <td>6.6</td>\n",
       "      <td>3.51</td>\n",
       "      <td>High</td>\n",
       "    </tr>\n",
       "  </tbody>\n",
       "</table>\n",
       "</div>"
      ],
      "text/plain": [
       "   Student_ID  Study_Hours_Per_Day  Extracurricular_Hours_Per_Day  \\\n",
       "0           1                  6.9                            3.8   \n",
       "1           2                  5.3                            3.5   \n",
       "2           3                  5.1                            3.9   \n",
       "3           4                  6.5                            2.1   \n",
       "4           5                  8.1                            0.6   \n",
       "\n",
       "   Sleep_Hours_Per_Day  Social_Hours_Per_Day  Physical_Activity_Hours_Per_Day  \\\n",
       "0                  8.7                   2.8                              1.8   \n",
       "1                  8.0                   4.2                              3.0   \n",
       "2                  9.2                   1.2                              4.6   \n",
       "3                  7.2                   1.7                              6.5   \n",
       "4                  6.5                   2.2                              6.6   \n",
       "\n",
       "    GPA Stress_Level  \n",
       "0  2.99     Moderate  \n",
       "1  2.75          Low  \n",
       "2  2.67          Low  \n",
       "3  2.88     Moderate  \n",
       "4  3.51         High  "
      ]
     },
     "execution_count": 69,
     "metadata": {},
     "output_type": "execute_result"
    }
   ],
   "source": [
    "data = pd.read_csv('/Users/maryamzad/street_levels/student_lifestyle_dataset.csv')\n",
    "data.head()"
   ]
  },
  {
   "cell_type": "code",
   "execution_count": 70,
   "metadata": {},
   "outputs": [
    {
     "name": "stdout",
     "output_type": "stream",
     "text": [
      "Null cells:  0\n",
      "Duplicate Rows:  0\n"
     ]
    }
   ],
   "source": [
    "print('Null cells: ', data.isnull().sum().sum())\n",
    "print(\"Duplicate Rows: \", data.duplicated().sum())"
   ]
  },
  {
   "cell_type": "code",
   "execution_count": 71,
   "metadata": {},
   "outputs": [
    {
     "data": {
      "text/plain": [
       "(2000, 8)"
      ]
     },
     "execution_count": 71,
     "metadata": {},
     "output_type": "execute_result"
    }
   ],
   "source": [
    "data.shape"
   ]
  },
  {
   "cell_type": "code",
   "execution_count": 72,
   "metadata": {},
   "outputs": [
    {
     "data": {
      "text/html": [
       "<div>\n",
       "<style scoped>\n",
       "    .dataframe tbody tr th:only-of-type {\n",
       "        vertical-align: middle;\n",
       "    }\n",
       "\n",
       "    .dataframe tbody tr th {\n",
       "        vertical-align: top;\n",
       "    }\n",
       "\n",
       "    .dataframe thead th {\n",
       "        text-align: right;\n",
       "    }\n",
       "</style>\n",
       "<table border=\"1\" class=\"dataframe\">\n",
       "  <thead>\n",
       "    <tr style=\"text-align: right;\">\n",
       "      <th></th>\n",
       "      <th>Student_ID</th>\n",
       "      <th>Study_Hours_Per_Day</th>\n",
       "      <th>Extracurricular_Hours_Per_Day</th>\n",
       "      <th>Sleep_Hours_Per_Day</th>\n",
       "      <th>Social_Hours_Per_Day</th>\n",
       "      <th>Physical_Activity_Hours_Per_Day</th>\n",
       "      <th>GPA</th>\n",
       "    </tr>\n",
       "  </thead>\n",
       "  <tbody>\n",
       "    <tr>\n",
       "      <th>count</th>\n",
       "      <td>2000.000000</td>\n",
       "      <td>2000.000000</td>\n",
       "      <td>2000.000000</td>\n",
       "      <td>2000.000000</td>\n",
       "      <td>2000.000000</td>\n",
       "      <td>2000.00000</td>\n",
       "      <td>2000.000000</td>\n",
       "    </tr>\n",
       "    <tr>\n",
       "      <th>mean</th>\n",
       "      <td>1000.500000</td>\n",
       "      <td>7.475800</td>\n",
       "      <td>1.990100</td>\n",
       "      <td>7.501250</td>\n",
       "      <td>2.704550</td>\n",
       "      <td>4.32830</td>\n",
       "      <td>3.115960</td>\n",
       "    </tr>\n",
       "    <tr>\n",
       "      <th>std</th>\n",
       "      <td>577.494589</td>\n",
       "      <td>1.423888</td>\n",
       "      <td>1.155855</td>\n",
       "      <td>1.460949</td>\n",
       "      <td>1.688514</td>\n",
       "      <td>2.51411</td>\n",
       "      <td>0.298674</td>\n",
       "    </tr>\n",
       "    <tr>\n",
       "      <th>min</th>\n",
       "      <td>1.000000</td>\n",
       "      <td>5.000000</td>\n",
       "      <td>0.000000</td>\n",
       "      <td>5.000000</td>\n",
       "      <td>0.000000</td>\n",
       "      <td>0.00000</td>\n",
       "      <td>2.240000</td>\n",
       "    </tr>\n",
       "    <tr>\n",
       "      <th>25%</th>\n",
       "      <td>500.750000</td>\n",
       "      <td>6.300000</td>\n",
       "      <td>1.000000</td>\n",
       "      <td>6.200000</td>\n",
       "      <td>1.200000</td>\n",
       "      <td>2.40000</td>\n",
       "      <td>2.900000</td>\n",
       "    </tr>\n",
       "    <tr>\n",
       "      <th>50%</th>\n",
       "      <td>1000.500000</td>\n",
       "      <td>7.400000</td>\n",
       "      <td>2.000000</td>\n",
       "      <td>7.500000</td>\n",
       "      <td>2.600000</td>\n",
       "      <td>4.10000</td>\n",
       "      <td>3.110000</td>\n",
       "    </tr>\n",
       "    <tr>\n",
       "      <th>75%</th>\n",
       "      <td>1500.250000</td>\n",
       "      <td>8.700000</td>\n",
       "      <td>3.000000</td>\n",
       "      <td>8.800000</td>\n",
       "      <td>4.100000</td>\n",
       "      <td>6.10000</td>\n",
       "      <td>3.330000</td>\n",
       "    </tr>\n",
       "    <tr>\n",
       "      <th>max</th>\n",
       "      <td>2000.000000</td>\n",
       "      <td>10.000000</td>\n",
       "      <td>4.000000</td>\n",
       "      <td>10.000000</td>\n",
       "      <td>6.000000</td>\n",
       "      <td>13.00000</td>\n",
       "      <td>4.000000</td>\n",
       "    </tr>\n",
       "  </tbody>\n",
       "</table>\n",
       "</div>"
      ],
      "text/plain": [
       "        Student_ID  Study_Hours_Per_Day  Extracurricular_Hours_Per_Day  \\\n",
       "count  2000.000000          2000.000000                    2000.000000   \n",
       "mean   1000.500000             7.475800                       1.990100   \n",
       "std     577.494589             1.423888                       1.155855   \n",
       "min       1.000000             5.000000                       0.000000   \n",
       "25%     500.750000             6.300000                       1.000000   \n",
       "50%    1000.500000             7.400000                       2.000000   \n",
       "75%    1500.250000             8.700000                       3.000000   \n",
       "max    2000.000000            10.000000                       4.000000   \n",
       "\n",
       "       Sleep_Hours_Per_Day  Social_Hours_Per_Day  \\\n",
       "count          2000.000000           2000.000000   \n",
       "mean              7.501250              2.704550   \n",
       "std               1.460949              1.688514   \n",
       "min               5.000000              0.000000   \n",
       "25%               6.200000              1.200000   \n",
       "50%               7.500000              2.600000   \n",
       "75%               8.800000              4.100000   \n",
       "max              10.000000              6.000000   \n",
       "\n",
       "       Physical_Activity_Hours_Per_Day          GPA  \n",
       "count                       2000.00000  2000.000000  \n",
       "mean                           4.32830     3.115960  \n",
       "std                            2.51411     0.298674  \n",
       "min                            0.00000     2.240000  \n",
       "25%                            2.40000     2.900000  \n",
       "50%                            4.10000     3.110000  \n",
       "75%                            6.10000     3.330000  \n",
       "max                           13.00000     4.000000  "
      ]
     },
     "execution_count": 72,
     "metadata": {},
     "output_type": "execute_result"
    }
   ],
   "source": [
    "data.describe()"
   ]
  },
  {
   "cell_type": "code",
   "execution_count": 73,
   "metadata": {},
   "outputs": [
    {
     "data": {
      "text/plain": [
       "(array(['High', 'Low', 'Moderate'], dtype=object), array([1029,  297,  674]))"
      ]
     },
     "execution_count": 73,
     "metadata": {},
     "output_type": "execute_result"
    }
   ],
   "source": [
    "# examine our y variable\n",
    "np.unique(data[\"Stress_Level\"], return_counts=True)"
   ]
  },
  {
   "cell_type": "code",
   "execution_count": 74,
   "metadata": {},
   "outputs": [
    {
     "data": {
      "text/plain": [
       "Index(['Student_ID', 'Study_Hours_Per_Day', 'Extracurricular_Hours_Per_Day',\n",
       "       'Sleep_Hours_Per_Day', 'Social_Hours_Per_Day',\n",
       "       'Physical_Activity_Hours_Per_Day', 'GPA', 'Stress_Level'],\n",
       "      dtype='object')"
      ]
     },
     "execution_count": 74,
     "metadata": {},
     "output_type": "execute_result"
    }
   ],
   "source": [
    "# columns \n",
    "data.columns"
   ]
  },
  {
   "cell_type": "code",
   "execution_count": 75,
   "metadata": {},
   "outputs": [
    {
     "data": {
      "text/plain": [
       "Student_ID                         0\n",
       "Study_Hours_Per_Day                0\n",
       "Extracurricular_Hours_Per_Day      0\n",
       "Sleep_Hours_Per_Day                0\n",
       "Social_Hours_Per_Day               0\n",
       "Physical_Activity_Hours_Per_Day    0\n",
       "GPA                                0\n",
       "Stress_Level                       0\n",
       "dtype: int64"
      ]
     },
     "execution_count": 75,
     "metadata": {},
     "output_type": "execute_result"
    }
   ],
   "source": [
    "# Check for any missing values (no missing values)\n",
    "data.isnull().sum()"
   ]
  },
  {
   "cell_type": "code",
   "execution_count": 76,
   "metadata": {},
   "outputs": [
    {
     "data": {
      "text/html": [
       "<div>\n",
       "<style scoped>\n",
       "    .dataframe tbody tr th:only-of-type {\n",
       "        vertical-align: middle;\n",
       "    }\n",
       "\n",
       "    .dataframe tbody tr th {\n",
       "        vertical-align: top;\n",
       "    }\n",
       "\n",
       "    .dataframe thead th {\n",
       "        text-align: right;\n",
       "    }\n",
       "</style>\n",
       "<table border=\"1\" class=\"dataframe\">\n",
       "  <thead>\n",
       "    <tr style=\"text-align: right;\">\n",
       "      <th></th>\n",
       "      <th>Student_ID</th>\n",
       "      <th>Study_Hours_Per_Day</th>\n",
       "      <th>Extracurricular_Hours_Per_Day</th>\n",
       "      <th>Sleep_Hours_Per_Day</th>\n",
       "      <th>Social_Hours_Per_Day</th>\n",
       "      <th>Physical_Activity_Hours_Per_Day</th>\n",
       "      <th>GPA</th>\n",
       "      <th>Stress_Level</th>\n",
       "    </tr>\n",
       "  </thead>\n",
       "  <tbody>\n",
       "    <tr>\n",
       "      <th>0</th>\n",
       "      <td>1</td>\n",
       "      <td>6.9</td>\n",
       "      <td>3.8</td>\n",
       "      <td>8.7</td>\n",
       "      <td>2.8</td>\n",
       "      <td>1.8</td>\n",
       "      <td>2.99</td>\n",
       "      <td>Moderate</td>\n",
       "    </tr>\n",
       "    <tr>\n",
       "      <th>1</th>\n",
       "      <td>2</td>\n",
       "      <td>5.3</td>\n",
       "      <td>3.5</td>\n",
       "      <td>8.0</td>\n",
       "      <td>4.2</td>\n",
       "      <td>3.0</td>\n",
       "      <td>2.75</td>\n",
       "      <td>Low</td>\n",
       "    </tr>\n",
       "    <tr>\n",
       "      <th>2</th>\n",
       "      <td>3</td>\n",
       "      <td>5.1</td>\n",
       "      <td>3.9</td>\n",
       "      <td>9.2</td>\n",
       "      <td>1.2</td>\n",
       "      <td>4.6</td>\n",
       "      <td>2.67</td>\n",
       "      <td>Low</td>\n",
       "    </tr>\n",
       "    <tr>\n",
       "      <th>3</th>\n",
       "      <td>4</td>\n",
       "      <td>6.5</td>\n",
       "      <td>2.1</td>\n",
       "      <td>7.2</td>\n",
       "      <td>1.7</td>\n",
       "      <td>6.5</td>\n",
       "      <td>2.88</td>\n",
       "      <td>Moderate</td>\n",
       "    </tr>\n",
       "    <tr>\n",
       "      <th>4</th>\n",
       "      <td>5</td>\n",
       "      <td>8.1</td>\n",
       "      <td>0.6</td>\n",
       "      <td>6.5</td>\n",
       "      <td>2.2</td>\n",
       "      <td>6.6</td>\n",
       "      <td>3.51</td>\n",
       "      <td>High</td>\n",
       "    </tr>\n",
       "    <tr>\n",
       "      <th>...</th>\n",
       "      <td>...</td>\n",
       "      <td>...</td>\n",
       "      <td>...</td>\n",
       "      <td>...</td>\n",
       "      <td>...</td>\n",
       "      <td>...</td>\n",
       "      <td>...</td>\n",
       "      <td>...</td>\n",
       "    </tr>\n",
       "    <tr>\n",
       "      <th>1995</th>\n",
       "      <td>1996</td>\n",
       "      <td>6.5</td>\n",
       "      <td>0.2</td>\n",
       "      <td>7.4</td>\n",
       "      <td>2.1</td>\n",
       "      <td>7.8</td>\n",
       "      <td>3.32</td>\n",
       "      <td>Moderate</td>\n",
       "    </tr>\n",
       "    <tr>\n",
       "      <th>1996</th>\n",
       "      <td>1997</td>\n",
       "      <td>6.3</td>\n",
       "      <td>2.8</td>\n",
       "      <td>8.8</td>\n",
       "      <td>1.5</td>\n",
       "      <td>4.6</td>\n",
       "      <td>2.65</td>\n",
       "      <td>Moderate</td>\n",
       "    </tr>\n",
       "    <tr>\n",
       "      <th>1997</th>\n",
       "      <td>1998</td>\n",
       "      <td>6.2</td>\n",
       "      <td>0.0</td>\n",
       "      <td>6.2</td>\n",
       "      <td>0.8</td>\n",
       "      <td>10.8</td>\n",
       "      <td>3.14</td>\n",
       "      <td>Moderate</td>\n",
       "    </tr>\n",
       "    <tr>\n",
       "      <th>1998</th>\n",
       "      <td>1999</td>\n",
       "      <td>8.1</td>\n",
       "      <td>0.7</td>\n",
       "      <td>7.6</td>\n",
       "      <td>3.5</td>\n",
       "      <td>4.1</td>\n",
       "      <td>3.04</td>\n",
       "      <td>High</td>\n",
       "    </tr>\n",
       "    <tr>\n",
       "      <th>1999</th>\n",
       "      <td>2000</td>\n",
       "      <td>9.0</td>\n",
       "      <td>1.7</td>\n",
       "      <td>7.3</td>\n",
       "      <td>3.1</td>\n",
       "      <td>2.9</td>\n",
       "      <td>3.58</td>\n",
       "      <td>High</td>\n",
       "    </tr>\n",
       "  </tbody>\n",
       "</table>\n",
       "<p>2000 rows × 8 columns</p>\n",
       "</div>"
      ],
      "text/plain": [
       "      Student_ID  Study_Hours_Per_Day  Extracurricular_Hours_Per_Day  \\\n",
       "0              1                  6.9                            3.8   \n",
       "1              2                  5.3                            3.5   \n",
       "2              3                  5.1                            3.9   \n",
       "3              4                  6.5                            2.1   \n",
       "4              5                  8.1                            0.6   \n",
       "...          ...                  ...                            ...   \n",
       "1995        1996                  6.5                            0.2   \n",
       "1996        1997                  6.3                            2.8   \n",
       "1997        1998                  6.2                            0.0   \n",
       "1998        1999                  8.1                            0.7   \n",
       "1999        2000                  9.0                            1.7   \n",
       "\n",
       "      Sleep_Hours_Per_Day  Social_Hours_Per_Day  \\\n",
       "0                     8.7                   2.8   \n",
       "1                     8.0                   4.2   \n",
       "2                     9.2                   1.2   \n",
       "3                     7.2                   1.7   \n",
       "4                     6.5                   2.2   \n",
       "...                   ...                   ...   \n",
       "1995                  7.4                   2.1   \n",
       "1996                  8.8                   1.5   \n",
       "1997                  6.2                   0.8   \n",
       "1998                  7.6                   3.5   \n",
       "1999                  7.3                   3.1   \n",
       "\n",
       "      Physical_Activity_Hours_Per_Day   GPA Stress_Level  \n",
       "0                                 1.8  2.99     Moderate  \n",
       "1                                 3.0  2.75          Low  \n",
       "2                                 4.6  2.67          Low  \n",
       "3                                 6.5  2.88     Moderate  \n",
       "4                                 6.6  3.51         High  \n",
       "...                               ...   ...          ...  \n",
       "1995                              7.8  3.32     Moderate  \n",
       "1996                              4.6  2.65     Moderate  \n",
       "1997                             10.8  3.14     Moderate  \n",
       "1998                              4.1  3.04         High  \n",
       "1999                              2.9  3.58         High  \n",
       "\n",
       "[2000 rows x 8 columns]"
      ]
     },
     "execution_count": 76,
     "metadata": {},
     "output_type": "execute_result"
    }
   ],
   "source": [
    "data"
   ]
  },
  {
   "cell_type": "code",
   "execution_count": 77,
   "metadata": {},
   "outputs": [
    {
     "name": "stdout",
     "output_type": "stream",
     "text": [
      "Student_ID                         0.003306\n",
      "Study_Hours_Per_Day                0.738843\n",
      "Extracurricular_Hours_Per_Day     -0.006099\n",
      "Sleep_Hours_Per_Day               -0.298917\n",
      "Social_Hours_Per_Day              -0.054702\n",
      "Physical_Activity_Hours_Per_Day   -0.205207\n",
      "GPA                                0.550395\n",
      "Stress_Level                       1.000000\n",
      "Name: Stress_Level, dtype: float64\n"
     ]
    }
   ],
   "source": [
    "### see which variables are most closely related \n",
    "# encode the categorical variable to numerical for correlation check\n",
    "data['Stress_Level'] = data['Stress_Level'].map({'Low': 30, 'Moderate': 40, 'High': 50})\n",
    "correlation_matrix = data.corr()\n",
    "stress_correlations = correlation_matrix['Stress_Level']\n",
    "print(stress_correlations)"
   ]
  },
  {
   "cell_type": "code",
   "execution_count": 29,
   "metadata": {},
   "outputs": [
    {
     "data": {
      "image/png": "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",
      "text/plain": [
       "<Figure size 1000x800 with 2 Axes>"
      ]
     },
     "metadata": {},
     "output_type": "display_data"
    }
   ],
   "source": [
    "plt.figure(figsize=(10, 8))\n",
    "sns.heatmap(correlation_matrix, annot=True, cmap='coolwarm', fmt=\".2f\", linewidths=.5)\n",
    "plt.title('Correlation Matrix of Variables')\n",
    "plt.show()"
   ]
  },
  {
   "cell_type": "markdown",
   "metadata": {},
   "source": [
    "# Data Visualization\n"
   ]
  },
  {
   "cell_type": "code",
   "execution_count": 31,
   "metadata": {},
   "outputs": [
    {
     "data": {
      "image/png": "iVBORw0KGgoAAAANSUhEUgAAAoEAAAKSCAYAAACtEQGNAAAAOXRFWHRTb2Z0d2FyZQBNYXRwbG90bGliIHZlcnNpb24zLjguMCwgaHR0cHM6Ly9tYXRwbG90bGliLm9yZy81sbWrAAAACXBIWXMAAA9hAAAPYQGoP6dpAABjtElEQVR4nO3dd3zV5eH+/+vkZI+TBAIhYYW9NzJlCCgqbqyj2orbVmr1Y3HU1tFqa1tbrbV+7fhVbLUqFatWRREhIEsBZe+wZwhk75zz/v1xJBIhZJ1z7nPO+/XM4zwwJyfnXAcZF/f9vu/bYVmWJQAAANhKhOkAAAAACDxKIAAAgA1RAgEAAGyIEggAAGBDlEAAAAAbogQCAADYECUQAADAhiiBAAAANkQJBAAAsCFKIOBHjz/+uBwOR0Bea+LEiZo4cWLt59nZ2XI4HHrrrbcC8vozZsxQVlZWQF6ruUpKSnTbbbepXbt2cjgcuvfee01HQj0cDocef/xx0zGAsEYJBBpp9uzZcjgctbfY2FhlZmZq6tSpev7551VcXOyT1zl06JAef/xxrV271ifP50vBnK0xfvWrX2n27Nn6wQ9+oH/961/63ve+V+9jq6qq9Mc//lFDhgyRy+VSSkqK+vXrpzvuuENbt26tfdzy5cv1+OOPq6CgIADvwHdO/npevXq16SgADIk0HQAINb/4xS/UpUsXVVdX68iRI8rOzta9996rP/zhD3rvvfc0cODA2sf+7Gc/00MPPdSk5z906JCeeOIJZWVlafDgwY3+vvnz5zfpdZrjbNn+9re/yePx+D1DSyxcuFCjRo3SY4891uBjp0+frnnz5un666/X7bffrurqam3dulXvv/++xowZo969e0vylsAnnnhCM2bMUEpKip/fAQD4DiUQaKKLLrpIw4cPr/384Ycf1sKFC3XJJZfosssu05YtWxQXFydJioyMVGSkf3+blZWVKT4+XtHR0X59nYZERUUZff3GyM3NVd++fRt83KpVq/T+++/rqaee0k9/+tM6X3vhhReaPern8XhUVVWl2NjYZn0/APgS08GAD0yaNEk///nPtXfvXr366qu195/pmsBPPvlE5557rlJSUpSYmKhevXrVFo3s7Gydc845kqSbb765dup59uzZkrzX/fXv319r1qzR+PHjFR8fX/u9374m8CS3262f/vSnateunRISEnTZZZdp//79dR6TlZWlGTNmnPa9pz5nQ9nOdE1gaWmp7r//fnXs2FExMTHq1auXnnnmGVmWVedxDodDM2fO1DvvvKP+/fsrJiZG/fr100cffXTmn/Bvyc3N1a233qr09HTFxsZq0KBBeuWVV2q/fvL6yN27d+uDDz6ozb5nz54zPl9OTo4kaezYsad9zel0qnXr1pK8/39nzZolSerSpctpz3vyfb322mvq16+fYmJiat/TwYMHdcsttyg9Pb32/f7jH/847fX+9Kc/qV+/foqPj1dqaqqGDx+uf//737VfLy4u1r333qusrCzFxMSobdu2Ov/88/Xll1826ueuIQ3lPHr0qCIjI/XEE0+c9r3btm2Tw+HQCy+8UHtfQUGB7r333tpfE927d9dvfvObBkeR/f0+ATtiJBDwke9973v66U9/qvnz5+v2228/42M2bdqkSy65RAMHDtQvfvELxcTEaOfOnVq2bJkkqU+fPvrFL36hRx99VHfccYfGjRsnSRozZkztcxw/flwXXXSRrrvuOt14441KT08/a66nnnpKDodDDz74oHJzc/Xcc89pypQpWrt2be2IZWM0JtupLMvSZZddpkWLFunWW2/V4MGD9fHHH2vWrFk6ePCgnn322TqPX7p0qd5++2398Ic/VFJSkp5//nlNnz5d+/btqy1dZ1JeXq6JEydq586dmjlzprp06aL//Oc/mjFjhgoKCvTjH/9Yffr00b/+9S/dd9996tChg+6//35JUps2bc74nJ07d5Ykvfbaaxo7dmy9o7lXXXWVtm/frtdff13PPvus0tLSTnvehQsXas6cOZo5c6bS0tKUlZWlo0ePatSoUbUlsU2bNpo3b55uvfVWFRUV1S5Y+dvf/qZ77rlHV199tX784x+roqJC69ev1+eff67vfve7kqS77rpLb731lmbOnKm+ffvq+PHjWrp0qbZs2aKhQ4fW+/PWGI3JmZ6ergkTJmjOnDmnTbO/+eabcjqd+s53viPJO2o9YcIEHTx4UHfeeac6deqk5cuX6+GHH9bhw4f13HPP1ZvFn+8TsC0LQKO8/PLLliRr1apV9T4mOTnZGjJkSO3njz32mHXqb7Nnn33WkmQdO3as3udYtWqVJcl6+eWXT/vahAkTLEnWSy+9dMavTZgwofbzRYsWWZKs9u3bW0VFRbX3z5kzx5Jk/fGPf6y9r3PnztZNN93U4HOeLdtNN91kde7cufbzd955x5JkPfnkk3Ued/XVV1sOh8PauXNn7X2SrOjo6Dr3rVu3zpJk/elPfzrttU713HPPWZKsV199tfa+qqoqa/To0VZiYmKd9965c2dr2rRpZ30+y7Isj8dT+3Odnp5uXX/99daf//xna+/evac99ne/+50lydq9e/dpX5NkRUREWJs2bapz/6233mplZGRYeXl5de6/7rrrrOTkZKusrMyyLMu6/PLLrX79+p01a3JysnX33Xc3+J6+rTG/nhub8y9/+YslydqwYUOdx/Xt29eaNGlS7ee//OUvrYSEBGv79u11HvfQQw9ZTqfT2rdvX+19kqzHHnusxe8TQP2YDgZ8KDEx8ayrhE8uHHj33XebvYgiJiZGN998c6Mf//3vf19JSUm1n1999dXKyMjQhx9+2KzXb6wPP/xQTqdT99xzT53777//flmWpXnz5tW5f8qUKerWrVvt5wMHDpTL5dKuXbsafJ127drp+uuvr70vKipK99xzj0pKSrR48eImZ3c4HPr444/15JNPKjU1Va+//rruvvtude7cWddee22TrgmcMGFCnesQLcvS3Llzdemll8qyLOXl5dXepk6dqsLCwtopzpSUFB04cECrVq2q9/lTUlL0+eef69ChQ01+n2fTlJxXXXWVIiMj9eabb9Z+/8aNG7V582Zde+21tff95z//0bhx45Samlrn+aZMmSK3260lS5YE/H0CdkYJBHyopKSkTuH6tmuvvVZjx47VbbfdpvT0dF133XWaM2dOkwph+/btm7QIpEePHnU+dzgc6t69e73Xw/nK3r17lZmZedrPR58+fWq/fqpOnTqd9hypqanKz89v8HV69OihiIi6f5zV9zqNFRMTo0ceeURbtmzRoUOH9Prrr2vUqFG1U7uN1aVLlzqfHzt2TAUFBfrrX/+qNm3a1LmdLPe5ubmSpAcffFCJiYkaMWKEevToobvvvrv20oGTfvvb32rjxo3q2LGjRowYoccff7zB4twYTcmZlpamyZMna86cObXf/+abbyoyMlJXXXVV7X07duzQRx99dNrzTZkypc7znYm/3idgZ1wTCPjIgQMHVFhYqO7du9f7mLi4OC1ZskSLFi3SBx98oI8++khvvvmmJk2apPnz58vpdDb4Ok25jq+x6tvQ2u12NyqTL9T3Ota3FpGYkJGRoeuuu07Tp09Xv379NGfOHM2ePbtRK7+//f/rZOG/8cYbddNNN53xe05uM9SnTx9t27ZN77//vj766CPNnTtXL774oh599NHahRjXXHONxo0bp//+97+aP3++fve73+k3v/mN3n77bV100UXNfs9NySlJ1113nW6++WatXbtWgwcP1pw5czR58uTa6yRPPuf555+vBx544IzP17Nnz3rz+Ot9AnZGCQR85F//+pckaerUqWd9XEREhCZPnqzJkyfrD3/4g371q1/pkUce0aJFizRlyhSfnzCyY8eOOp9blqWdO3fW+Qs8NTX1jFOce/fuVdeuXWs/b0q2zp07a8GCBSouLq4zGnhyo+WTiy9aqnPnzlq/fr08Hk+d0UBfv47knWYeOHCgduzYoby8vNqTR5qiTZs2SkpKktvtrh0BO5uEhARde+21uvbaa1VVVaWrrrpKTz31lB5++OHarWYyMjL0wx/+UD/84Q+Vm5uroUOH6qmnnmpROWpqziuuuEJ33nln7ZTw9u3b9fDDD9d5TLdu3VRSUtKo5zsTf7xPwM6YDgZ8YOHChfrlL3+pLl266IYbbqj3cSdOnDjtvpObLldWVkry/qUvyWcnUPzzn/+sc53iW2+9pcOHD9f5i7Nbt25auXKlqqqqau97//33T9tKpinZLr74Yrnd7jrbg0jSs88+K4fD4bO/uC+++GIdOXKkzvVoNTU1+tOf/qTExERNmDChyc+5Y8cO7du377T7CwoKtGLFCqWmptauAG7q/y+n06np06dr7ty52rhx42lfP3bsWO1/Hz9+vM7XoqOj1bdvX1mWperqarndbhUWFtZ5TNu2bZWZmVn766m5mpJT8l6zN3XqVM2ZM0dvvPGGoqOjdcUVV9R5zDXXXKMVK1bo448/Pu35CgoKVFNTc8Ys/nyfgJ0xEgg00bx587R161bV1NTo6NGjWrhwoT755BN17txZ77333lk3Av7FL36hJUuWaNq0aercubNyc3P14osvqkOHDjr33HMleQtZSkqKXnrpJSUlJSkhIUEjR4487dqyxmrVqpXOPfdc3XzzzTp69Kiee+45de/evc42NrfddpveeustXXjhhbrmmmuUk5OjV199tc5CjaZmu/TSS3XeeefpkUce0Z49ezRo0CDNnz9f7777ru69997Tnru57rjjDv3lL3/RjBkztGbNGmVlZemtt97SsmXL9Nxzz531Gs36rFu3Tt/97nd10UUXady4cWrVqpUOHjyoV155RYcOHdJzzz1XO309bNgwSdIjjzyi6667TlFRUbr00ktry+GZPP3001q0aJFGjhyp22+/XX379tWJEyf05ZdfasGCBbX/WLjgggvUrl07jR07Vunp6dqyZYteeOEFTZs2TUlJSSooKFCHDh109dVXa9CgQUpMTNSCBQu0atUq/f73v2/Ue/3HP/5xxv0Yf/zjHzc650nXXnutbrzxRr344ouaOnXqaSeozJo1S++9954uueQSzZgxQ8OGDVNpaak2bNigt956S3v27KkzfXxScXFxi98ngDMwtzAZCC0nt9Q4eYuOjrbatWtnnX/++dYf//jHOluRnPTtLWI+/fRT6/LLL7cyMzOt6OhoKzMz07r++utP2zLj3Xfftfr27WtFRkbW2ZJlwoQJ9W4ZUt8WMa+//rr18MMPW23btrXi4uKsadOmnXGrk9///vdW+/btrZiYGGvs2LHW6tWrT3vOs2X79hYxlmVZxcXF1n333WdlZmZaUVFRVo8ePazf/e53lsfjqfM4SWfc/qO+rWu+7ejRo9bNN99spaWlWdHR0daAAQPOuI1NY7eIOXr0qPX0009bEyZMsDIyMqzIyEgrNTXVmjRpkvXWW2+d9vhf/vKXVvv27a2IiIg628XU975Ovsbdd99tdezY0YqKirLatWtnTZ482frrX/9a+5i//OUv1vjx463WrVtbMTExVrdu3axZs2ZZhYWFlmVZVmVlpTVr1ixr0KBBVlJSkpWQkGANGjTIevHFFxt8j9/+9fzt2/79+xud86SioiIrLi7utC17TlVcXGw9/PDDVvfu3a3o6GgrLS3NGjNmjPXMM89YVVVVtY/TKVvEtOR9Aqifw7KC4KprAAAABBTXBAIAANgQJRAAAMCGKIEAAAA2RAkEAACwIUogAACADVECAQAAbIgSCAAAYEOUQAAAABuiBAIAANgQJRAAAMCGKIEAAAA2RAkEAACwIUogAACADVECAQAAbIgSCAAAYEOUQAAAABuiBAIAANgQJRAAAMCGKIEAAAA2RAkEAACwIUogAACADVECAQAAbIgSCAAAYEOUQAAAABuiBAIAANgQJRAAAMCGKIEAAAA2RAkEAACwIUogAACADVECAQAAbIgSCAAAYEOUQAAAABuiBAIAANgQJRAAAMCGKIEAAAA2RAkEAACwIUogAACADVECAQAAbIgSCAAAYEOUQAAAABuiBAIAANgQJRAAAMCGKIEAAAA2RAkEAACwIUogAACADVECAQAAbIgSCAAAYEOUQAAAABuiBAIAANgQJRAAAMCGKIEAAAA2RAkEAACwIUogAACADVECAQAAbIgSCAAAYEOUQAAAABuiBAIAANgQJRAAAMCGKIEAAAA2RAkEAACwIUogAACADVECAQAAbIgSCAAAYEOUQAAAABuiBAIAANgQJRAAAMCGKIEAAAA2RAkEAIStGTNm6IorrjAdAwhKkaYDAECL1NRI1dV1b1VV3vvdbsmyvI+zrNrblj6So54Pp5yKPsNHBP9mBhBmKIEAgofbLZWWSmVl3tup/11e/k3BO7XweTxNfpnP+jQ9Wn3l8ORHjGIUr3glnvIRyR+xQW3x4sWaNWuW1q1bp1atWummm27Sk08+qcjISL3//vu68cYbdfz4cTmdTq1du1ZDhgzRgw8+qKefflqSdNttt6miokKvvvqq4XcCNA9/QgEInLIyqbBQKiiQiotPL3uVlaYT1sstt8q//misOMUpUYlKUEKdcnjyI17xfkyMszl48KAuvvhizZgxQ//85z+1detW3X777YqNjdXjjz+ucePGqbi4WF999ZWGDx+uxYsXKy0tTdnZ2bXPsXjxYj344IPm3gTQQpRAAL7ldn9T9L79Y1WV4XCBdbI0HtOxM37dKacSlahkJavVKR8pSmH62c9efPFFdezYUS+88IIcDod69+6tQ4cO6cEHH9Sjjz6q5ORkDR48WNnZ2Ro+fLiys7N133336YknnlBJSYkKCwu1c+dOTZgwwfRbAZqNEgigeSxLKiqSjh2T8vKk/Hxv0Ssp+eY6PJyVW24Vfv2xT/tq73fKqRSlKFWpaqVWaq3WaqVWSlCCwbThZcuWLRo9erQcDkftfWPHjlVJSYkOHDigTp06acKECcrOztb999+vzz77TL/+9a81Z84cLV26VCdOnFBmZqZ69Ohh8F0ALUMJBNA4xcXfFL5jx7w3m43sBYpbbh3/+uNUMYqpM2LYRm3UWq3lkKOeZ0JLTJw4Uf/4xz+0bt06RUVFqXfv3po4caKys7OVn5/PKCBCHiUQwOnKyr4peieLX3njr4WDf1SqUoe//jgpWtFKV7raff3RVm3llNNgytDQp08fzZ07V5Zl1Y4GLlu2TElJSerQoYMk1V4X+Oyzz9YWvokTJ+rpp59Wfn6+7r//fmP5AV+gBAKQKiqkQ4e+uRUUmE6ERqpSlfZ//SF5p5LbqE1tKWyndopWtOGUZhUWFmrt2rV17rvjjjv03HPP6Uc/+pFmzpypbdu26bHHHtP//d//KSLCez1mamqqBg4cqNdee00vvPCCJGn8+PG65pprVF1dzUggQh4lELCjqirpyBHp4EFv6Ttxguv4woRbbh35+kPy7ofYSq1qC2GGMmy3Kjk7O1tDhgypc9+tt96qDz/8ULNmzdKgQYPUqlUr3XrrrfrZz35W53ETJkzQ2rVrNXHiRElSq1at1LdvXx09elS9evUK1FsA/MJhWfzJD4S9mhrp6NFvRvpyc21d+v56h+kEZqUqVZ2//mirtlxTCNgUI4FAuKqokPbulfbskQ4c8G7dAkjK//pjrdYqVrHq9PVHB3Ww/dQxYCeUQCCcFBV5S9/evd7pXhuP9qFxKlSh7V9/RChCmcpUJ3VSZ3VWkpJMxwPgR0wHA6EuL89b/Pbs8V7bhwbZfTq4sZg2BsIbI4FAqLEs7yjf7t3e4ldSYjoRwtSp08ZxilNXdVUP9VBbtTUdDYAPUAKBUFFYKG3fLu3c6d24GQigcpVr09cfKUpRj68/EpVoOhqAZmI6GAhmlZVSTo60Y4d3dS98gulg38lQhnqoh7qqK4tKgBBDCQSCjccj7d/vHfXbt49VvX5ACfQ9p5zKUpZ6qIc6qIMiFGE6EoAGMB0MBIu8PG/xy8nhiDaEHLfcyvn6I05x6qZu6qmeSlOa6WgA6kEJBEyqqfFe47d5s7cEAmGgXOXa+PVHa7VWf/VXd3XnTGMgyDAdDJhQVCRt2uQd+ausNJ3GdpgODrw4xam3equf+tnu2DogWDESCASKZXmv9du0yfsjYCPlKtdX+krrtE5d1VX91Z+tZgDDKIGAv9XUeEf8Nm6UCgpMpwGM8sijnV9/tFVb9Vd/dVVXFpIABjAdDPhLSYl31G/rVqZ8gwzTwcElXvHqq77qoz6KU5zpOIBtUAIBXysqkr76yru3n8djOg3OgBIYnJxyqpu6aYAGqLVam44DhD2mgwFfKSiQvvzSu8UL/7YCmswtt7Z//dFZnTVUQ9VGbUzHAsIWJRBoqRMnvOVv927KH+Aje7/+6KiOGqZhLCIB/IASCDRXXp63/O3ZYzoJELb2f/3RQR00VEPVTu1MRwLCBiUQaKrcXG/527fPdBLANg58/dFBHTRcwxkZBHyAEgg0Vl6e9MUX0oEDppMAtnWyDHZWZw3XcBaQAC1ACQQaUlLiLX87d5pOAuBrJ68Z7KquGq7hSlGK6UhAyKEEAvWpqvJu9bJxo+R2m04D4Ax2aZd2a7d6qZfO0TnsMwg0ASUQ+DaPR9q82XvdX0WF6TQAGmDJ0lZtVY5yNFRDNUADOIEEaARKIHCq3bu9U7+FhaaTAGiialXrc32urdqq0RqtTupkOhIQ1CiBgORd8btihXT0qOkkAFqoUIX6SB+pozpqtEZzvSBQD0og7K20VFq50nvKB4Cwsl/7dVAH1U/9NEzDFK1o05GAoEIJhD1ZlrRpk7RqlVRdbToNAD/xyKMN2qAd2qFzdI56q7cccpiOBQQFSiDs59gx6bPPvPv+AbCFClXoM32mzdqsMRqjDGWYjgQYRwmEfVRVSatXe0cAOeMXsKXjOq7/6X/qpm4aozFsKQNbowTCHnbt8i78KC01nQRAEMhRjg7ogMZqrLqru+k4gBGUQIS34mJp2TLO+QVwmkpVaqEWKkc5Gqdxile86UhAQFECEZ48Hmn9eu+GzzU1ptMACGJ7tVdHdESjNVo91dN0HCBgKIEIP/n50qJFLPwA0GiVqlS2smtHBROVaDoS4Hecq4PwYVnShg3S229TAAE0y37t13/0H23VVtNRAL9jJBDhoaREWrxYOnjQdBIAIa5a1VqiJcpRjsZrvJKUZDoS4BeMBCL07dghvfUWBRCATx3UQb2lt7RJm2SJbaUQfhgJROiqqJCWLvVu/wIAflCtai3TMu3Wbp2n85SgBNORAJ9hJBChaf9+7+gfBRBAABzSIc3VXO3XftNRAJ+hBCK01NR4R//mzZPKykynAWAjFarQPM3TF/pCHnlMxwFajOlghI78fOmTT6SCAtNJANjYWq3VER3RJE1iKxmENEYCERp27pTeeYcCCCAoHNERzdVc7ROnESF0UQIR3Dwe77FvCxdK1dWm0wBArUpV6iN9pJVayfQwQhLTwQheJSXSggVSbq7pJABQr/Var6M6qsmazPQwQgojgQhOBw54T/6gAAIIAUd1VHM1V3u113QUoNEogQguliWtWeNd/VtRYToNADRapSr1sT7WCq1gehghgelgBI+KCmnRIu8egAAQojZog/KUp/N1vmIVazoOUC9GAhEc8vK8078UQABh4LAO6x29owIVmI4C1IsSCPP27JHee8+7EAQAwkSRivSO3tFBca45ghMlEGatW+fdALqmxnQSAPC5KlXpQ32ozdpsOgpwGq4JhBkej/f4t61bTScBAL+yZGmplqpABRqlUYpg/AVBghKIwKuq8o7+HWSKBIB9bNRGFapQkzVZ0Yo2HQfgnyMIsOJi6d13KYAAbGm/9utdvatiFZuOAlACEUC5ud7zf/PzTScBAGPyla939I6O6qjpKLA5SiACY9cu6X//k8rLTScBAOPKVa739b52aqfpKLAxrgmE/61dK33xhekUABBU3HJroRaqRCUarMGm48CGKIHwr5UrpfXrTacAgKD1hb5Qlao0QiNMR4HNUALhH5YlffYZW8AAQCOs1VpVq1pjNEYOOUzHgU1QAuF7Ho/3DOCcHNNJACBkbNImVata4zWevQQREJRA+JbbLS1YIO3dazoJAISc7dqualVrkibJKafpOAhz/FMDvlNdLX30EQUQAFpgt3ZrvuarRhynCf+iBMI3KiulDz9kE2gA8IH92q95mqcqVZmOgjBGCUTLlZdL778vHWXjUwDwlcM6rA/0gSpUYToKwhQlEC1TUiK99550/LjpJAAQdo7pmP6n/6lMZaajIAxRAtF8JSXeU0AKC00nAYCwla98vaf3OG8YPkcJRPOUlnqngIv5QwkA/K1IRXpf76tEJaajIIxQAtF0ZWXeAlhUZDoJANhGsYr1oT7kGkH4DCUQTVNRIX3wAVPAAGBAgQr0oT5k1TB8ghKIxqus9BbA/HzTSQDAtvKUp4/0EfsIosUogWic6mpp3jxWAQNAEDiiI5qv+XLLbToKQhglEA1zu6X586XcXNNJAABfO6ADWqiF8shjOgpCFCUQZ+fxeM8C5iQQAAg6u7VbS7RElizTURCCKIGon2VJ2dmcBQwAQWy7tmuFVpiOgRBECUT9VqyQdu40nQIA0ICN2qjVWm06BkIMJRBntmGDtHGj6RQAgEb6Ul9qvdabjoEQQgnE6fbskVauNJ0CANBEK7VS27XddAyECEog6jp2TFq40Hs9IAAg5CzREh3WYdMxEAIogfhGcbH00UdSDRuQAkCo8sijT/SJisTRnjg7SiC8qqq8BbC83HQSAEALVahCH+tjjpfDWVEC4d0L8JNPOA4OAMJIvvL1qT5lM2nUixII6bPP2AwaAMLQfu3XSrHQD2dGCbS7r76Stm0znQIA4CcbtVFbtMV0DAQhSqCd5eRIq1aZTgEA8LNlWqZDOmQ6BoIMJdCujh+XFi82nQIAEAAnVwwXqtB0FAQRSqAdVVV5F4KwFQwA2EalKvWRPlKlKk1HQZCgBNqNZUmLFklF7B8FAHZTqEIt0AJWDEMSJdB+1q6V9u41nQIAYMhBHdQKrTAdA0GAEmgnBw5Iq1ebTgEAMGyTNilHOaZjwDBKoF2UlHAmMACg1hItUYEKTMeAQZRAO3C7vQtBKipMJwEABIlqVWuBFqhGLBK0K0qgHSxfLh07ZjoFACDInNAJLddy0zFgCCUw3G3fLm1hp3gAwJlt1VZt13bTMWAAJTCcnTjhPRcYAICz2FB6REdKTKdAoFECw5XbLX36qfdHAADOINKKVOT+8Zq/aLz+/qVUzV8ZtkIJDFdffCHl55tOAQAIUknuVB1adaU+X9dbkrS/SPrvVsOhEFCRpgPADw4elDZsMJ0CABCkUop767NlY1RVU7cGLNwt9UmTBqQbCoaAYiQw3FRWStnZplMAAIJQlBUlx+5J+nTx+NMKoCRZkl5ZJxWyo5gtUALDzWefSaWlplMAAIKMy52mfSuv0upN3c/6uOIq6eW1nC1gB5TAcLJjh7Rrl+kUAIAgk1zYT0vnX65Dx5Mb9fgtedJ8/joJe5TAcFFSIi1bZjoFACCIRFsxcu+4QAs/G6tqt7NJ3/veNulwsZ+CIShQAsOBZUmLFklVVaaTAACCRHJNunYum66127Ka9f01Hulf65kWDmeUwHCwfr10+LDpFAD8bPuS7Xrh0hf0QOYDutNxp9a+s7bex75212u603GnFjy34KzP6XF79O7P39VPu/xUM+Nm6pFuj+iDX34g65S/+ec/M18/afsT/aTtT/TJ7z+p8/27P9+tp4Y9JXcNG8wFDUty5Q9S9vxLdawgsUVPlZMvZe/1US4EHbaICXXHj0urVplOASAAqkqr1GFQB429Zaxeuuqleh/31X+/0q6Vu5SSmdLgc370m4+0+P8t1s2v3KyMfhnau3qvXrn5FcUlx2nSPZN0YP0Bvffoe5r5/kxZlqU/X/Jn9b2gr9oPaC93jVuv3fWabvzrjXJGNm2qEf4RY8WqaNt5WrSzo8+e852t0qB0qVWcz54SQYISGMosS1qyRPJ4TCcBEAD9L+qv/hf1P+tj8g/m640fvaEff/xjvTDthQafc9fyXRp8+WANmDZAkpSWlaZVr6/S7i92S5KObD2iDgM7qPck74bC7Qe215GtR9R+QHvN/9189RjfQ1nnZLXsjcEnkqsytHbFZJ0ojvfp81bUSP/eIM0c4dOnRRBgOjiUbdokHTtmOgWAIOHxePTy917WBbMuUGa/zEZ9T9cxXbX10606uv2oJGn/uv3auXRnbdlsP6C9jm4/qhP7Tuj43uPK3Z6rzP6ZOpZzTMtfXq7Ln7zcb+8HjeOwHErMG6ZF8y/xeQE8aUOu9MVBvzw1DGIkMFSVlDANDKCOj3/zsSIiIzTpnkmN/p4LH7pQFUUVeqz3Y3I4HbLcli5/6nKNvGGkJCmjT4au+NUVeu785yRJV/z6CmX0ydCzU57V9N9O16aPN+n9x9+XM8qpa/54jXqO7+mPt4Z6xFnxOr55klbvblzpb4k5m6S+baTEaL+/FAKEEhiqli2TqqtNpwAQJPau2auFf1yoR758RA6Ho9Hft2bOGn3x2he69d+3KrNfpvav3a85985RSmaKRt80WpI04a4JmnDXhNrvWfHKCsUmxarr6K56tNejenjVwyo4UKC/X/d3PbX7KUXFRPn8/eF0KZUdtWb5RBWUBuZiveIq6T+bpJuHBOTlEACUwFC0e7e0l+VaAL6x47MdKs4t1sOdHq69z+P26K3739LC5xbqV3t+dcbvmztrrqY+NFXnXHeOJO/07/G9xzXv1/NqS+CpSvJK9P4T7+snS36i3Z/vVnrPdKX38N7c1W7lbs9V+wHt/fMmIck7/RuXe44WrhokS40v/L6w8qA0or3Ur21AXxZ+QgkMNVVV0vLlplMACDKjvjdKfab0qXPf81Of18jvjdSYm8fU+31VZVWKiKh7eXiEM0KW58ybw825b44m3zdZqR1StWfVHrmrv9kaxlPjkcfNQjV/ivck6sjGyVq9L91Yhtc2SI9NkGJoECGP/4WhZtUqzgYGbKqipELHdn6zGCxvd572r92vhFYJatWplRJb190TzhnllKudS+16tau97w+T/6AhVw7ReTPPkyQNvHSgPnzqQ7Xq1EoZ/TK0/6v9WvCHBRpzy+nFcfMnm3V0+1HNeGWGJCnrnCwd2XpEG+dt1In9J+RwOpTey1w5CXcpFVn6fNkElZTHGM1xvFx6Z5t0bT+jMeADlMBQkpsrbd5sOgUAQ/au3qs/nPeH2s//83//kSSNvmm0Zsye0ajnyMvJU0leSe3n1/3pOr3783f17x/+W8W5xUrOTNa4O8fpkkcvqfN9VeVVemPmG7r9zdtrRw5TO6Tquj9dp1dufkWRMZG6+ZWbFR3HqgFfc1pORR4eqU+/PPv2QIG0aLc0IlPqkmo6CVrCYVkcCBMSPB7pv//1bg4NoEX+eofpBEDjJHhcOrB2inYdSjMd5TSZSdLPxklONpsLWfyvCxUbNlAAAcBGUsq6afWnVwVlAZSkQ8XSRzmmU6AlKIGhoLRUWrPGdAoAQAA4Laci94/Xpwsnq6wyuKfXP9opFVSYToHmogSGglWrpJoa0ykAAH6W6E7VkdVX6vN1vU1HaZQqt/TeNtMp0FyUwGCXlydt3246BQDAz1JKemnlgiu172gr01GaZPl+6WCR6RRoDkpgsFu50nQCAIAfRVpRcuw5T59mT1Bldeht2mFJemuL6RRojtD71WYne/ZIhw6ZTgEA8BOXu7W2rZqiQ3nJpqO0yOZj3lvfNqaToCkogcHK45E+/9x0CgCAnyQX9dVny0erusZpOopPzN0i9U6TIgJ7kh1agOngYLV5s1RYaDoFAMDHoq1oeXaer4VLzg2bAihJB4qkFQdMp0BTUAKDUWWl9OWXplMAAHwsuaatdi2frq+2djEdxS/e2+ZdMYzQQAkMRl99JVWw8RIAhA1LcuUP1OL5l+lofpLpNH5TUCF9sst0CjQWJTDYFBVJmzaZTgEA8JEYK1bV2y7UomWj5PaE/1+783OkokrTKdAY4f+rMdR88YXkZiwdAMJBcnWGti2drvU7O5mOEjAVNdL/2N42JFACg8mxY9IuxtEBINQ5LIcSjw9V9vxpOl6YYDpOwC3dJx0uNp0CDaEEBhMWgwBAyIu14lW2+WItXjFcHsuef816LOntraZToCHsExgs8vKkvXtNpwAAtEBKVQetWX6eCkriTEcxbv1RaVue1CvNdBLUhxIYLBgFBICQ5bAcijt2jhZ+MUiW2C35pP9tpwQGM0pgMDh+3HtEHAAg5MR7EnV04ySt3tfOdJSgs+OElHNC6tbKdBKciT0vVgg2jAICQEhKqeistdlXaTsFsF4f5ZhOgPowEmjaiRPS7t2mUwAAmiDCilD0kZH6dM0A01GC3oaj0qFiKTN898gOWYwEmsYoIACElASPS8fXXq5lFMBGsSR9vNN0CpwJJdCkEyfYFxAAQkhKeVet/vQq7TrYxnSUkPLFIel4mekU+DZKoElffWU6AQCgEZyWU1EHxunTT6eorDLadJyQ47Gk+Yx5BB1KoCn5+YwCAkAISHSn6MjqK7VybR/TUULasn1SMWcKBxVKoCnr1kmWZToFAOAsUkp7auWCq7TvKHuctFS1R1q4x3QKnIoSaEJZmbSTq2QBIFhFWlGK2HOePl00UZXVbKThK9l7pIoa0ylwEiXQhC1bJI/HdAoAwBkkuVvrwOdXatXGHqajhJ2yamkJJ6QGDUpgoLnd0ubNplMAAM4guaivln9yuQ7mpZiOErY+3SXVMA4SFCiBgZaTI5WXm04BADhFlBUta+cULVxyrqpqmP71p4JKaeUB0ykgUQIDb+NG0wkAAKdw1bTRnhVX6cutXU1HsY35Od5tY2AW/9wJpCNHpLw80ykAAJJkSa7CAVqyfKTcHsZEAuloqbT2iDQ0w3QSe+NXfSAxCggAQSHGilH19gu1aOloCqAhi1kgYhwjgYFSUiLt3m06BQDYXnJ1O61fOUl5hYmmo9jatjwpr0xKizedxL7450+gbNrE5tAAYJDDcijpxBBlz7+EAhgELElL95lOYW+UwECoqZG2bjWdAgBsK9aKU9mWi5W9/Bx5LP7qCxYr9rNAxCSmgwNhxw6pkgMTAcCElKr2+nLFecovZt4x2BRUShtypUHpppPYEyUwELZsMZ0AAGzHYTkUnzdcCz8fLEsO03FQj2X7KIGmUAL97fhxtoUBgACL8yTo2KbJWr23nekoaMCGXKmwQkqONZ3Efrgwwt+2bTOdAABsJaWyk9ZlT9c2CmBI8FjSck4QMYIS6E9ut/d6QACA30VYEYo9MkqffnKhissYVgoly/axgYYJTAf70969LAgBgABI8CTp4LrJyjnY1nQUNMOxMmnbcal3mukk9kIJ9CemggHA71LLu2r50vEqq4w2HQUtsHQfJTDQKIH+UlYmHeAiBwDwF6fllPPgaC1Y29d0FPjAV0ek0iopgS4fMFwT6C87d3KBAwD4SaInWblrrtAKCmDYqPFInx80ncJeKIH+woIQAPCLlNIe+nzBVdpzpLXpKPAxjpELLKaD/eHECe/+gAAAn4m0ImXtO1efbuhpOgr85GCxtDtf6pJqOok9UAL9Yft20wkAIKwkuVtp55opOpCbYjoK/Gz1YUpgoDAd7GuWJeXkmE4BAGEjubiPln9yBQXQJtYeMZ3APhgJ9LXcXKm01HQKAAh5UVaUqneP18LN3UxHQQDllUn7i6SOLtNJwh8l0Nd27zadAABCnqumjbZ8MVlHTtAE7Oirw5TAQGA62Nf27DGdAABCmquwv5Z+chkF0MaYEg4MRgJ96cQJqajIdAoACEnRVozKdkzUou2dTUeBYQeLpWOlUpsE00nCGyOBvsRUMAA0S3J1unYsna51FEB87StGA/2OEuhLTAUDQNNYUtKJwcr+5FLlFSaaToMgwpSw/zEd7CtFRWwQDQBNEGvFqWDreVqT08F0FAShXflSYYWUHGs6SfhiJNBXGAUEgEZLqWqvzUumaxMFEPWwJK07ajpFeKME+grXAwJAgxyWQwnHhmvh/IuVXxxvOg6CHNcF+hfTwb5QVubdJBoAUK84K0HHNk7S6r0ZpqMgRGzLk8qqpfgo00nCEyOBvrBnj/e4OADAGaVUdtKG7OnaRgFEE7gtaQNTwn5DCfSFfftMJwCAoBRhRSjuyCgt/GSqCku5wh9Nxyph/2E6uKU8HunwYdMpACDoxHuSdHj9ZO080NZ0FISwTcekarcU5TSdJPxQAlsqN1eqrjadAgCCSmp5F61YNkGlFdGmoyDEVbqlrXnSgHTTScIPJbClDhwwnQAAgobTciry0Cgt+Kqf6SgII9uPUwL9gRLYUocOmU4AAEEhwZOsfV9N0Z7DrU1HQZjZccJ0gvBECWyJ6mq2hgEASSml3bV82TiVV7GXB3xvb6FUUSPF0lp8ip/Oljh82LswBABsKtKKlLV/rD5d38t0FIQxj+U9Rq5vG9NJwgslsCUOHjSdAACMSXKnKmfNFO3PTTUdBTaw/Tgl0NcogS1BCQRgU8nFvbV02RhV1fDXCAJj+3HTCcIPv3ubq7xcOsGVqgDsJcqKUs2ecVq4qbvpKLCZvYVSlVuKZr9An6EENhejgABsxlWTpq2rpujwcZfpKLChGo/3usDeaaaThA9KYHOxNQwAG0ku7K/Plo9UtZthGJiz/Tgl0Jcogc1FCQRgA9FWjMp3TtDCbVmmowDawXWBPkUJbI6KCqmoyHQKAPCr5Op0bfh8so4VJJqOAkiSdhdwjrAvUQKb49gx0wkAwH8syVUwWNkrhsvjiTCdBqhV7fEWwZ4cSuMT/O5uDkoggDAVY8WpcttFWrRsBAUQQYkpYd9hJLA5OCoOQBhKqcrUVysm6URxvOkoQL22n5CmmQ4RJiiBzcFIIIAw4rAcSjg+VAtXDpUlh+k4wFntypfcHsnJQHWLUQKbqqTEu1E0AISBOCtexzdN0uo9maajAI1S5ZYOFEmdU0wnCX2UwKZiKhhAmEip7KjVy89TYWms6ShAkxwspgT6AiWwqZgKBhDiHJZDcbkjtHDVQKZ/EZIOFptOEB4ogU3FSCCAEBbvSdThDZO1en+66ShAsx1kq16foAQ2hWVJeXmmUwBAs6RUZOnzZRNUUh5jOgrQIowE+gYlsCkKCqTqatMpAKBJnJZTkYdH6tMv+5uOAvhEUaVUXCkl8e+ZFqEENgXXAwIIMQmeZO3/arJ2H04zHQXwqYPFUm9KYItQApsiP990AgBotNSy7lq+7FyVVUabjgL43MEiqTf/tmkRSmBTFBSYTgAADYq0IqUDY7RgXW/TUQC/4brAlqMENgUlEECQS3KnateXk7XvaCvTUQC/YoVwy1ECG8vjkYr4FQcgeKWU9NJnS8eqqoY/2hH+DpVIHkuKYKvLZuNPisYqLPRuEQMAQSbKilLNnnH6dFN301GAgKlyS3llUtsE00lCFyWwsZgKBhCEXO7W2vbFFB06nmw6ChBwB4sogS1BCWwsSiCAIJNc2E+frRil6hqn6SiAEQeKpSEZplOELkpgY7E9DIAgEW1FqzxnghZu7WI6CmDUIS7VbxFKYGMVFppOAABKrmmrjZ9PVm5+kukogHFsE9MylMDGYjoYgEmW5CoYqOwVI+TxRJhOAwSF3FLJ7ZGc/JZoFkpgY5SUcGYwAGNirFgVbztPi3Z2NB0FCCqWpPwKKS3edJLQRAlsDEYBARiSXJ2hdSsm6XgRSyCBMzlRTglsLkpgY5SUmE4AwGYclkMJJ4Yoe+VQeSzmuoD6HC83nSB0UQIbo7TUdAIANhJrxSt/8ySt3p1pOgoQ9E6UmU4QuiiBjUEJBBAgKZUdtGb5eSoojTMdBQgJjAQ2HyWwMSiBAPzMYTkUd+wcLfxikCxxGCrQWCcogc1GCWyMMsaaAfhPvCdRRzZO1up96aajACGHEth8lMDGYCQQgJ+kVHTW58smqqQ8xnQUICRRApuPEtgQt1uqqDCdAkCYibAiFHV4lD79sr/pKEBIq/ZIZdVSfJTpJKGHEtgQRgEB+FiCx6UD6yZr18E2pqMAYaGwghLYHJTAhlACAfhQSlk3rVg2TmWV0aajAGGjsFLK4DjtJqMENoQSCMAHnJZTEQfG6NN1fUxHAcJOIVdtNQslsCGsDAbQQonuFO3+cor2HW1lOgoQlgorTScITZTAhnBkHIAWSCnpqaXLzlVlNX/cAv5CCWwe/lRqCCuDATRDpBUlz95z9enGHqajAGGP6eDmoQQ2pKrKdAIAISbJ3Vo7Vk3WwbwU01EAWyhiJLBZKIENoQQCaILkor76bPloVdc4TUcBbKOyxnSC0EQJbEh1tekEAEJAlBWtqpzxWri1q+kogO1Uuk0nCE2UwIYwEgigAck1bbXp88k6ms9GZYAJVZTAZqEENoQSCKA+luQqHKjFy0fI7YkwnQawLUpg81ACG8J0MIAziLFiVbJ9ohbt6GQ6CmB7TAc3DyXwbGpqJI/HdAoAQSa5OkPrVk7S8cIE01EASKp2S5YlORymk4QWSuDZMBUM4BQOy6HEE4OVvXKYPBbTv0CwsCRVe6RoFuU3CSXwbJgKBvC1WCtO+VsmafWu9qajADiDyhpKYFNRAs+GkUAAklKq2mvN8kkqKIkzHQVAPSrdEuvzm4YSeDaUQMDWHJZD8ceGa+EXg2WJi42AYMYK4aajBJ4N08GAbcV5EpS7cbJW72tnOgqARqAENh0l8Gwsy3QCAAakVHbSF8smqrgs1nQUAI3E0XFNRwk8G0ogYCsRVoSij4zUp2sGmI4CoIkYCWw6SiAASErwJOnguinKOdjGdBQAzUAJbDpKIADbSynvqhVLx6usMtp0FADNxKkhTUcJPBumg4Gw5rScijg4Wp+u7Ws6CoAWogQ2HSXwbCiBQNhK9KRoz5dTtPdIK9NRAPgAmzg1HSUQgO2klPbQsmXnqqIqynQUAD4SyUmOTUYJBGA7S5dMVKWbcQMgnDgpgU1GCTwbpoOb5fH//U9PvP9+nft6padr6y9+IUn665Il+veqVfpy3z4VV1Qo/9lnlRIf36LnlKT/mzNHs1esUEJMjJ6+8krdMHJk7df+s2aN/rlihf43c2ZL3x7CQFKURQkEwkwkv6WbjBJ4NpTAZuuXmakF995b+3mk85tTvcuqqnRhv366sF8/Pfzf//rkOf+3bp3+vWqV5v/4x9qRm6tb/vlPTe3XT2mJiSosL9cj77yjBffd16L3hPDhctYoT6wEBsIJ08FNRwmEX0RGRKhdcvIZv3bvlCmSpOxt23z2nFuOHNHEnj01PCtLw7OydO+cOdqdl6e0xEQ9MHeufjBhgjq1YgEAvFwR1RIlEAgrlMCmowTCL3bk5irzgQcUGxWl0V276tdXXtniEna25xzUoYP++tlnyi8t1a68PJVXV6t7mzZaunOnvty3Ty9+97u+eFsIEy5VSkowHQOAD3FNYNNRAs/GwQUGzTGySxfNnjFDvdLTdbiwUE+8/77G/e532vjYY0qKbd5ZrA0959R+/XTjyJE659e/VlxUlF6ZMUMJMTH6wWuvafaMGfp/ixfrT4sWKS0xUX+98Ub1y8z08btGKHF5KkxHAOBjjAQ2XcB+ymbPnq2UlJQmfc+MGTN0xRVX+CVPo0TSkZvjov799Z1hwzSwQwdN7ddPH/7oRyooK9Oc1av9+pyPX3qpdj75pDY89piuHDJEv543T1P69FGU06knP/xQS2fN0m1jx+r7L7/si7eJEOZyl5qOAMDHGAlsOp/8lNVX1rKzs+VwOFRQUKBrr71W27dv98XLBQ4l0CdS4uPVMz1dO48dC9hzbj1yRK9+8YV+edllyt6+XeN79FCbpCRdM3x47apk2JerhhIIhJsoSmCTBeynLC4uTm3btg3Uy/nGKatP0XwlFRXKOXZMGfUs6vD1c1qWpTtffVV/uPpqJcbGyu3xqNrtPU/o5I9uj8dnWRB6XJVFpiMA8DEnV3A1mdHp4CeffFJt27ZVUlKSbrvtNj300EMaPHjwad/7zDPPKCMjQ61bt9bdd9+t6urqwIRmJLBZfvLWW1q8fbv25OVpeU6OrnzpJTkjInT9OedIko4UFmrt/v21o3gbDh7U2v37daL0m9GZyX/4g15YtKjRz3mqvy9dqjZJSbp00CBJ0thu3bRw61at3LVLzy5YoL4ZGQ3uS4jw5iovMB0BgI9xTWDTGWs5r732mp566im9+OKLGjt2rN544w39/ve/V5cuXeo8btGiRcrIyNCiRYu0c+dOXXvttRo8eLBuv/12/4ekBDbLgfx8Xf/3v+t4aanaJCbq3O7dtfKhh9QmKUmS9NKSJXU2fh7/zDOSpJdvukkzxoyRJOXk5SmvpKTRz3nS0aIiPTVvnpY/8EDtfSO6dNH955+vaS+8oLZJSXplxgx/vXWECFdZgZRoOgUAX+KawKZzWFbLd0SeMWOGXn31VcV+a+Wn2+1WRUWF8vPz9c477+jee+9VQUGBJGnUqFEaPny4XnjhhdrHn3vuuSopKdHatWtrnzc7O1s5OTlyfj01e8011ygiIkJvvPFGS2M3rKhICsTrAAi4ezrezqkhQBj5zRQppXkbUNiWz3rzeeedp7Vr19a5/f3vf6/38du2bdOIESPq3PftzyWpX79+tQVQkjIyMpSbm+ur2GcXzWayQLhyRXFdKBBOmA5uOp/NdyYkJKh79+517jtw4ECLnzcqKqrO5w6HQ55AXdT/rdcGED5ckW4dE4u/gHBBCWw6Yz9lvXr10qpVq+rc9+3PjXM6WSEMhCmXI0ALzAD4nUNSNH9dN5mxlQ8/+tGPdPvtt2v48OEaM2aM3nzzTa1fv15du3Y1FenMoqKkr7cVARA+ODoOCB+J0VIEl/g2mbESeMMNN2jXrl36yU9+ooqKCl1zzTWaMWOGvvjiC1ORziwqSmJjYSDsuKxy0xEA+IgrxnSC0OST1cG+cv7556tdu3b617/+ZTrKN95+W8rLM50CgI8t6XqeXqvoYToGAB/okybdO8p0itBjbCSwrKxML730kqZOnSqn06nXX39dCxYs0CeffGIq0pnFxZlOAMAPXNUlDT8IQEhgJLB5jJVAh8OhDz/8UE899ZQqKirUq1cvzZ07V1OmTDEV6cw4WQIIS67KIoN/AgLwJUpg8xj7IzAuLk4LFiww9fKNRwkEwpKropBTQ4AwkUQJbBZ21WkIJRAIS67SE6YjAPARRgKbhxLYEEogEJai3VWKdQbNujgALeDigK9moQQ2hBIIhC2OjgPCAyOBzUMJbAirg4Gw5YpkI3ggHFACm4cS2BBGAoGw5XJUmY4AoIUcYmFIc1ECGxIZKUVzsQEQjrxHxwEIZRwZ13yUwMZgNBAISy6LIyGBUMcoYPNRAhuDEgiEpaSaUtMRALQQ1wM2HyWwMSiBQFhK5ug4IOSxPUzzUQIbIynJdAIAfuCqLDIdAUALpcSaThC6KIGNkZxsOgEAP3CVF5iOAKCF2nH8Y7NRAhuDEgiEJVdZgekIAFqIEth8lMDGoAQCYSnKXaXYSI6OA0IZJbD5KIGNERsrxbD8CAhHyRwdB4SspGgpgYUhzUYJbCxGA4GwlOSsMR0BQDMxCtgylMDGogQCYcnlqDYdAUAzUQJbhhLYWJRAICxxdBwQuiiBLUMJbCxKIBCWXJ5y0xEANBMlsGUogY1FCQTCUrK7zHQEAM1ECWwZSmBjUQKBsJRUVWw6AoBmiHZKreNMpwhtlMDGioqSEhJMpwDgYy5KIBCS0hMkh8N0itBGCWyKlBTTCQD4WDJHxwEhianglqMENkWbNqYTAPCxpLJ80xEANAMlsOUogU2RlmY6AQAfi3JXK56j44CQQwlsOUpgU1ACgbCUxNFxQMjJoAS2GCWwKVwuzhAGwpCLo+OAkOJ0SG1Zq9lilMCmYjQQCDscHQeElo7JUpTTdIrQRwlsKhaHAGGHo+OA0NIt1XSC8EAJbCpGAoGw4/JwaggQSiiBvkEJbCpKIBB2XDWUQCCUdKUE+gQlsKlYHAKEHVd1iekIABopNVZK5bg4n6AENgejgUBYcVUVmY4AoJG6tTKdIHxQApuDEgiEFVdZgekIABqJ6wF9hxLYHG3bmk4AwIdcHB0HhAyuB/SdSNMBQlJGhukEAHwo0lOj+EhLZTUO01HQBJs//H/aPO//qfjoHklSaqd+Gnrdo+o0/CJJ0pIX7tTBdQtUduKQomITld5njEbe9BuldOxd73P+9dIz/xoYefNvNeiqWXJXV2rx87dp7+fvKj61ncb+4EV1GDyl9nHr3v6dSo7t09g7/+S7N4pa0U6po8t0ivBBCWyO2FipVSvpxAnTSQD4iCvKo7Iadp8NJQlpHTTipqeVnNlDlmVp+6evaP5Tl+uq575Sq8791Kb7MPWYeIMS23RSZfEJrX79cX3w6AW6/u+7FeE88//rG/95uM7n+9fM0+Lnb1WXMdMlSVs++qvyctbo8t+t0P4187Twme/qe/86KofDoaIju7X147/pymdX+/2921VWsuRkDtNn+KlsrsxM0wkA+BBHx4WeziMuVafhFys5s4dS2vfUiO8/pajYROVuWylJ6nPhHcroP15J6VlK6z5U59z4pErz9qskd0+9zxmf2q7Obc/Kd5U54Dy52nWVJBXs36LOIy5Tq8791G/a3aooPKaKojxJ0tL/9wONmPEbRcczVOUvTAX7FiWwuSiBQFhxRVSZjoAW8Ljd2rnkDVVXlCq99+jTvl5dUaptC15WUnoXJaR1bNRzluUf1b7VH6j3+bfW3teqyyAd2bxUNZXlOvDlx4pvlaFYV5p2ZL8mZ1Ssuoy+0mfvCafryspgn2I6uLkyMiSHQ7Is00kA+IDLqpSUZDoGmujEng16Z9ZouasqFBWXqAse+a9SO/Wt/fqmD17U57MfUE1FqZLb99K0X34iZ1R0o557+8JXFB2XpKwxV9Xe1/v8W3Riz3r954d9FetK05QH5qiyJF+rX3tUl/4qW6v+9TPlfPaGXO26acKP/6GE1u19/p7tjJXBvuWwLFpMs82dKx0/bjoFAB+Y1+MivVPauBEiBA93dZVKju1TVVmhdi97S1vn/12X/npxbRGsKi1UeWGuyk4c1rr/PqOy4wd12W+XKTI6tsHnfvOu3uow5PwGF3lkP3ezWncdrKT0Llr1z5/qit9/rnVzf6sTezfqgp/O9cn7hJSeIP3iPNMpwgvTwS3BlDAQNlw1paYjoBmcUdFKzuyuNt2HacRNv1brLoO04b0/1n49OiFZyZk9lNF/vM5/6C0VHNiqPSv+2+DzHt70mQoPblPvC2476+MOrV+k/H2b1G/aTB3ekK2Owy9WVGyCup57jQ5vzG7hu8OpuB7Q9yiBLUEJBMIGR8eFB8vyyFNdWd9XZVmW3PV+/Rvb5v9/Sus+TK27DKr3MTVVFVr60t0ad/dfFOF0yvK45ampliR53NWyPO7mvAXUo2dr0wnCDyWwJU5eFwgg5LkqOTou1HzxysM6vHGJio/u0Yk9G/TFKw/r0IZsdZ94g4qO7NJX//m1ju1co5LcfTqyZbk+efo7ioyJU6fhF9c+x5t39dbub40MVpUVadey/zQ4CvjlG79Up2EXK63bEElSep+x2rPibR3fvV6b3n9B6X3G+vw925VDUn/OafA5Foa0RHS09wi5Y8dMJwHQQq7yAinKdAo0RXlhrhY9+32VnTis6IRktc4aqIuf+Fgdhpyv0uOHdGTTZ9r43nOqLMlXXEq6MvqN1+W/Xa64lG/aROHBbaoqLazzvDlL3pBlWeo+/vp6X/vE3o3atXSOpj+/tva+rmOv1uEN2XrvoXFKad9Lk37yb1+/ZdvqnCK5YkynCD8sDGmplSul9etNpwDQQu4Ip+5ud4ssMboPBJvLekrTeppOEX6YDm6p9iz/B8KB0+NWPCOBQFAakG46QXiiBLZUZqYUxd8cQDhwRXpMRwDwLSmxUqdk0ynCEyWwpZxOqUMH0ykA+ABHxwHBZwALQvyGEugLWVmmEwDwAZeDo+OAYMNUsP9QAn2hUye2igHCgEsN7x8HIHCiIqQ+aaZThC9KoC/ExEjt2plOAaCFXJ5y0xEAnKJXmhTtNJ0ifFECfYUpYSDkJXF0HBBUBnI9oF9RAn2lc2fTCQC0UHJ1sekIAE7B9YD+RQn0FZdLSuV0ayCUuSo4Og4IFh2SpFZxplOEN0qgLzEaCIQ0V3mB6QgAvsYooP9RAn2J6wKBkJZUli+HOEkTCAaUQP+jBPpSmzZSfLzpFACayWl5ODoOCAJJ0VKXFNMpwh8l0JccDkYDgRCXHOk2HQGwvaEZUgTb7/odJdDXevQwnQBACyRxdBxg3GhOYw0ISqCvpadLyZx0DYSq5Ihq0xEAW2uXKHVhs42AoAT6Q/fuphMAaKYkq8J0BMDWRjEKGDCUQH9gShgIWRwdB5jjkDSqvekU9kEJ9AeXyzstDCDkJHN0HGBM7zQplQ2iA4YS6C+MBgIhKamKo+MAU5gKDixKoL906yY5naZTAGii5EqOjgNMiHF6t4ZB4FAC/SUmRurY0XQKAE3kKi80HQGwpaEZUjRjJwFFCfSnnj1NJwDQRIkcHQcYwd6AgUcJ9KeOHb0jggBChtPyKJGj44CAah0n9WxtOoX9UAL9yen0XhsIIKQkRXF0HBBIozp4T15FYFEC/a13b9MJADSRK4Kj44BAYlWwGZRAf0tLY89AIMS4HFWmIwC20S1VaptgOoU9UQIDoV8/0wkANIFLlaYjALbBKKA5lMBA6NpVimMLdCBUuNxlpiMAthDjlM7JNJ3CviiBgRARIfXpYzoFgEZycXQcEBCjO0pxrMY3hhIYKH36sPQJCBGu6hLTEYCw55A0Kct0CnujBAZKQoLUpYvpFAAawcXRcYDf9W8rpSeaTmFvlMBAYoEIEBJcZfmmIwBhbxLjIsZRAgMpI0Nq1cp0CgANSCov5Og4wI8yEqW+bUynACUw0BgNBIJeBEfHAX7FKGBwoAQGWo8eUnS06RQAGuDi6DjALxKi2BswWFACAy0ykqPkgBDgcnJ0HOAPE7KkaKfpFJAogWYMGODdOxBA0OLoOMD3oiLYFiaY0ERMSEjwTgsDCFouq8J0BCDsjO4oJcWYToGTKIGmDBrE5tFAEHO5y01HAMKKQ9IFXU2n8I3s7Gw5HA4VFBSYjtIilEBTUlLYPBoIYhwdB/jWkAypTUJgXmvGjBlyOBy66667Tvva3XffLYfDoRkzZgQmTAs9/vjjGjx4sF+emxJokp/+pwJoOVdVsekIQFiZ2i2wr9exY0e98cYbKi//ZlS/oqJC//73v9WpU6fAhjmDqirz1x1TAk1KS5M6djSdAsAZcHQc4Ds9W0tZKYF9zaFDh6pjx456++23a+97++231alTJw0ZMqT2vsrKSt1zzz1q27atYmNjde6552rVqlV1nuvDDz9Uz549FRcXp/POO0979uw57fWWLl2qcePGKS4uTh07dtQ999yj0tJvZhSysrL0y1/+Ut///vflcrl0xx13SJIefPBB9ezZU/Hx8eratat+/vOfq7q6WpI0e/ZsPfHEE1q3bp0cDoccDodmz54tSSooKNBtt92mNm3ayOVyadKkSVq3bl2Tfo4ogaYNHWo6AYAzcJUXmI4AhI1phtZC3nLLLXr55ZdrP//HP/6hm2++uc5jHnjgAc2dO1evvPKKvvzyS3Xv3l1Tp07ViRMnJEn79+/XVVddpUsvvVRr167VbbfdpoceeqjOc+Tk5OjCCy/U9OnTtX79er355ptaunSpZs6cWedxzzzzjAYNGqSvvvpKP//5zyVJSUlJmj17tjZv3qw//vGP+tvf/qZnn31WknTttdfq/vvvV79+/XT48GEdPnxY1157rSTpO9/5jnJzczVv3jytWbNGQ4cO1eTJk2tzN4bDsizORjLtgw+kgwdNpwBwCo/Dobszb5PHYgEX0BJ90qR7RwX2NWfMmKGCggL97W9/U8eOHbVt2zZJUu/evbV//37ddtttSklJ0Z///GelpqZq9uzZ+u53vytJqq6uVlZWlu69917NmjVLP/3pT/Xuu+9q06ZNtc//0EMP6Te/+Y3y8/OVkpKi2267TU6nU3/5y19qH7N06VJNmDBBpaWlio2NVVZWloYMGaL//ve/Z83+zDPP6I033tDq1aslea8JfOedd7R27do6zz1t2jTl5uYqJuab5dbdu3fXAw88UDvK2JDIRj0K/jVsGCUQCDIRlqXEKKnI/GU7QMhySLrC4PkIbdq00bRp0zR79mxZlqVp06YpLS2t9us5OTmqrq7W2LFja++LiorSiBEjtGXLFknSli1bNHLkyDrPO3r06Dqfr1u3TuvXr9drr71We59lWfJ4PNq9e7f69OkjSRo+fPhpGd988009//zzysnJUUlJiWpqauRyuc76vtatW6eSkhK1bt26zv3l5eXKyck56/eeihIYDNq1kzIzpUOHTCcBcApXpFtFVfwxCTTXkIzAXwv4bbfcckvttOyf//xnv7xGSUmJ7rzzTt1zzz2nfe3URSgJCXWXR69YsUI33HCDnnjiCU2dOlXJycl644039Pvf/77B18vIyFB2dvZpX0tJSWl0bv50CxbDhlECgSDjPTqOPyaB5ohwSJf3Mp1CuvDCC1VVVSWHw6GpU6fW+Vq3bt0UHR2tZcuWqXPnzpK808GrVq3SvffeK0nq06eP3nvvvTrft3LlyjqfDx06VJs3b1b37t2blG358uXq3LmzHnnkkdr79u7dW+cx0dHRcrvrnmU+dOhQHTlyRJGRkcrKymrSa56KhSHBIiODlcJAkHGJuWCguUZ3kNolmk4hOZ1ObdmyRZs3b5bTWffQ4oSEBP3gBz/QrFmz9NFHH2nz5s26/fbbVVZWpltvvVWSdNddd2nHjh2aNWuWtm3bpn//+9+1K3RPevDBB7V8+XLNnDlTa9eu1Y4dO/Tuu++etjDk23r06KF9+/bpjTfeUE5Ojp5//vnTrhnMysrS7t27tXbtWuXl5amyslJTpkzR6NGjdcUVV2j+/Pnas2ePli9frkceeaT2WsLGoAQGk5EjOUUECCIucXQc0BxREdKlPU2n+IbL5ar3Orunn35a06dP1/e+9z0NHTpUO3fu1Mcff6zU1FRJ3uncuXPn6p133tGgQYP00ksv6Ve/+lWd5xg4cKAWL16s7du3a9y4cRoyZIgeffRRZWZmnjXXZZddpvvuu08zZ87U4MGDtXz58tpVwydNnz5dF154oc477zy1adNGr7/+uhwOhz788EONHz9eN998s3r27KnrrrtOe/fuVXp6eqN/XlgdHGyys6Xt202nACDpk+4X6K2yLNMxgJBzflfp6r6mU6AhjAQGm3POkb41XA3ADI6OA5ouNlK6sGmXxsEQSmCwSUiQBgwwnQKAODoOaI4LukqJ0aZToDEogcFo8GApNtZ0CsD2XBWFpiMAISUpWprc1XQKNBYlMBhFR3OcHBAEODoOaJqLe3ingxEaKIHBqm9fqYEdwwH4V0JFkSIcrJ0DGqN1nDS+s+kUaApKYLCKiPAuEgFgzMmj4wA07NJeUiStIqTwvyuYdesmtWljOgVga8mR7oYfBNhchyRpZHvTKdBUlMBgN2qU6QSArSU5q01HAIKaQ9L1A7zHxCG0UAKDXUaG1MSzCAH4TrKDo+OAsxnbUereynQKNAclMBSMHu1dMQwg4JI8HB0H1CcpWrqqj+kUaC5KYCiIi5NGjDCdArAll6fcdAQgaE3vIyUwRhGyKIGhok8fFokABiRzdBxwRj1bS6M7mk6BlqAEhgqHQxo3zvsjgIBJqioyHQEIOpER0g2ccBryKIGhJC1N6tfPdArAVpIrKIHAt53fVWqXaDoFWooSGGqGD5fi402nAGyDo+OAutrES9N6mE4BX6AEhproaO9qYQABkVBeyNFxwCmu7y9FOU2ngC9QAkNRt25Shw6mUwC24JDkiqIEApI0LEPq19Z0CvgKJTBUnXuu5OSfYkAgJEV6TEcAjIuNlK7lsvSwQgkMVS6XNGyY6RSALSRzdBygy3tJybGmU8CXKIGhbOBAKT3ddAog7CWJo+Ngb52SpYlZplPA1yiBoSwiQpo4UYqMNJ0ECGsucXQc7MvpkL43UIpgm9qwQwkMdcnJ0siRplMAYc3lLjMdATDmsl7ekUCEH0pgOOjbl9XCgB+5qjk6DvbUs7V0QTfTKeAvlMBw4HBIEyZ49xAE4HOu6mLTEYCAi4+SbhnMNHA4owSGi4QEaexY0ymAsOSqKDQdAQi4GwdIqXGmU8CfKIHhpEcPqUsX0ymAsOMqKzAdAQioMR2lYZmmU8DfKIHhZtw4KY5/ugG+lFBRJCdHx8Em2sazKbRdUALDTWysNH686RRAWHFISoqmBCL8OR3SrUO9p4Mg/FECw1HnzlLv3qZTAGHF5XSbjgD43SU9pawU0ykQKJTAcDVmjNS6tekUQNhwOWtMRwD8qmcr6cLuplMgkCiB4SoyUpoyRYqKMp0ECAsuVZqOAPhNfJR08xC2g7EbSmA4S0727h8IoMVcFkfHIXzdMEBqxZpC26EEhruuXaX+/U2nAEKey1NuOgLgF6M7SMPZDsaWKIF2MGqUlJ5uOgUQ0lzVJaYjAD7XNl66jnEC26IE2kFEhDR5shQTYzoJELJcVRwdh/ASGyn94By2g7EzSqBdJCZKkyZ5zxkG0GQcHYdw4pB06xApM8l0EphECbSTjh2lIUNMpwBCkqu8wHQEwGcu7y0N5Coh26ME2s2wYVL79qZTACEnoaJYkRwdhzBwTqZ0EfsBQpRA+3E4vNPCiYmmkwAhh6PjEOo6JUvfH2Q6BYIFJdCO4uKkCy9kI2mgiVyRHB2H0OWKkX44XIp2mk6CYEEJtKtWrbwrhlkoAjSaK4Kj4xCaIiOku4ZJqWwIjVNQAu2sUyfvHoIAGoWj4xCqvttf6tbKdAoEG0qg3Q0YIPXtazoFEBI4Og6haFKWNLaT6RQIRpRASGPGSB06mE4BBD2Xu8x0BKBJ+qRJ3+lnOgWCFSUQ3hNFpkyRUlNNJwGCmquGo+MQOtrGS7cPlSK49Bv1oATCKzpamjpVio01nQQIWq4qSiBCw8kj4RKiTSdBMKME4hsul3TBBZKT/QOAM+HUEIQCp8M7AsiRcGgIJRB1tWsnjR9vOgUQlCiBCHYOSbcMkfq3NZ0EoYASiNP16MHWMcAZxFeWKDKCU0MQvG4YIA3PNJ0CoYISiDMbOFAaMsR0CiDouKIogQhOV/WRxnU2nQKhhBKI+p1zDnsIAt/C0XEIRhd2l6Z2M50CoYYSiLMbO9Y7PQxAkpQUUW06AlDHhM7Slb1Np0AoogTi7BwOacIEqTNzDIAkJTuqTEcAao3IlK7vbzoFQhUlEA07uZl0JlcbA0mectMRAEnSgLbSjMHef6sDzUEJROM4nd7NpNu0MZ0EMCqZo+MQBHq2ku4cJjn5WxwtwC8fNF5UlHTRRRwvB1tz1ZSajgCb65ws3T1CimJff7QQJRBNExsrTZvmPV0EsKGkyiLTEWBjGYnSPSO9x8IBLUUJRNPFx0uXXCIlJ5tOAgRcckWh6QiwqdZx0o9HSomcBwwfoQSieRITpUsvZWoYtsPRcTAhLV76v9FSapzpJAgnlEA038kRwdatTScBAiauslRRHB2HAMpMkh4Y4y2CgC9RAtEycXHeIsiqYdgIR8chULKSpZ+MlpJjTSdBOKIEouViYryLRdLTTScBAiKJo+MQAD1bS/eNlhK4BhB+QgmEb0RHSxdfzIbSsIVkjo6Dnw1Ml+4ZwSpg+BclEL4TFSVdeKHUsaPpJIBfJanSdASEsRHtpbuGsQ8g/I8SCN+KjJQuuICzhhHWXFaF6QgIUxM6S7cM5iQQBAa/zOB7Tqd0/vlSt26mkwB+4eLoOPjBhd2k7w7gLGAEDiUQ/hERIU2aJA0YYDoJ4HOu6hLTERBmruwtXdnHdArYDSUQ/uNwSKNHe29AGEmuKjYdAWHCIemGAdKF3U0ngR1RAuF/AwZIU6Z4p4mBMJDE0XHwgQiHdMsQaTyXUMMQFp8jMLp29W4sPX++VMnKSoQ2V1m+xOkNaIG4SOm2oVL/tqaTwM4YCUTgZGRIl18uJSWZTgK0SFxVGUfHodnaJkgPnUsBhHmUQARWSop05ZWcLoKQx9FxaI6+baSHz5XaJZpOAlACYUJsrPe8YbaQQQhzRdaYjoAQM7mL9KMRUnyU6SSAF9cEwgyn07uFjMslffWV6TRAk7kiaiRxqCsaFhnh3f9vLIcpIchQAmGOwyGdc47UurW0eLFUzXmsCB0uVYrVIWiIK8Z7BFy3VqaTAKejBMK8rl2l1FTvyuFCtt5AaHBZ5ZJSTcdAEOuULP1guNQqznQS4My4JhDBITXVu2AkK8t0EqBRODoOZzM8U5o1hgKI4EYJRPCIjvaeOTxiBIdnIuhxdBzOxCHp8l7S7UOlaPbHR5BjOhjBxeGQBg+W0tKkhQuligrTiYAzclUWS/wlj1PERkq3DJYGtTOdBGgcRgIRnDp0kK66ylsGgSDk4ug4nKJtvPTAGAogQgslEMErMVG67DKpVy/TSYDTuMryTUdAkBjZXnpkvNTeZToJ0DRMByO4RUZKEyZIbdtKK1ZINWzQi+AQW12uaKelKjfXr9pVjFO6foA0uoPpJEDzUAIRGvr08Z49vHChlJdnOg0gyXt0XB4l0JY6uryLP9I5/g0hjOlghI6UFOmKK6RBg1g9jKDgcjIybUeTukgPnUsBROhjJBChJSJCGjlS6thRWrRIKi01nQg25oqoFkfH2UdStPT9QdLAdNNJAN9gJBChKTNTuvpq72kjgCHeo+NgBwPaSo9OoAAivDASiNAVEyNNmSJt3y4tW8bZwwg4l8U+luEuxild3Vca39l0EsD3KIEIfT17frNo5OhR02lgI64ajo4LZ11SpFuGSG0TTCcB/IMSiPCQlCRdeqm0dq305ZeSx2M6EWzAVcPRceEowiFN6yFd3MP730C4ogQifERESEOHSl26SEuWMCoIv3NVFnF0XJjpnCzdOFDqlGw6CeB/lECEn9RU70kjW7ZIn3/OtYLwG1d5ocQ2IWEhNlK6vJc0MYvRP9gHJRDhyeGQ+vaVOnf2LhrZs8d0IoQhV1k+JTAMDMuQru0nJceaTgIEFiUQ4S0hQbrgAmn3bmn5cvYVhE/F1FQoxmmpklNDQlJavHR9f6l/W9NJADMogbCHLl2k9u2lL76QNm82nQZhxBVl6RglMKRERkjnd/Uu/Ijmmk7YGCUQ9hEdLZ17rtS9u/TZZ1J+vulECAMuZ42OcWpIyOjZSvruACkjyXQSwDxKIOynXTtp+nRp/Xrpq69YOIIWSeLouJCQGC1d3Uca3dF0EiB4UAJhTxER0uDB3o2mV6+Wtm2TLMt0KoSgZEelJHYTDlYOSWM6StP7SAl0daAOSiDsLT5eGj9e6tdPWrlSOnjQdCKEmCRPuekIqEf7JO/Ub/dWppMAwYkSCEhS69bStGnS3r3eMlhYaDoRQkQyR8cFnbR46dKe0oj27PkHnA0lEDhV585Sx47Spk3e4+cqK00nQpDj6LjgkRTtXfE7vrN3BTCAs6MEAt8WESENGCD16OEtgps3cxYx6pVUUcSfpIbFRkoXdJMmd/H+N4DG4bcLUJ/YWGnMGO/JI6tWeTecBr4luYKj40yJivAe83Zhd+/qXwBNQwkEGpKSIp1/vnTihLRmDWUQdXB0XOBFOKTRHbzX/aXGmU4DhC5KINBYrVpRBnGa6JpKxTotVXBqSEAMbSdd3ltqR/EGWowSCDTVyTJ4/Li3DO7ZYzoRDHNFeVTh5vwxf+qdJl3ZW8pKMZ0ECB+UQKC5WreWLriAMgglRbqVK0qgP/RJk6Z29/4IwLcogUBLUQZtL9lRJY6O8x2nQzqnvTSlq9TRZToNEL4ogYCvnCyD+fnShg3Sjh2S2206FQIgSVWmI4SF+ChpfCfpvC5SSqzpNED4owQCvpaa6j2KbsQIacsW78bTZZwqEc5cFkfHtURavDSli/eM3xj+VgICht9ugL/ExkpDhkiDBkk5Od7Rwbw806ngB66aUtMRQlK3VO+U7+B2HO8GmEAJBPwtIsJ7+kiPHtLhw94yuHevZFmmk8FHXNUcHddYEQ5v6Tu/q9Q11XQawN4ogUAgZWR4b0VF3mnirVul6mrTqdBCyZXF/GnagBinNLajNLmrd/oXgHkOy2I4AjCmulratUvatk06csR0GjRTnqudHkm8zHSMoNS9lfd0j2EZUlyU6TQATsW/XQGToqKkXr28t8JCbxncsUMq5RqzUOIqPcHRcadoHSeN6uAtf20STKcBUB9GAoFg4/FIBw96C+HevWwzEyJ+3Ol2VdTYd3VDjFMaluktfj1aSQ77/lQAIYORQCDYRERIHTt6bxUV0s6d3kJ4/LjpZDgLV6RHFTX2OjXEIalXmrf4DWnH9i5AqOG3LBDMYmOl/v29t+PHpe3bpd27pRJWowYbV2SNbY6OS0/wTveO6iC1ijOdBkBzUQKBUNG6tTR6tDRqlJSb611QQiEMGi5HtaQY0zH8xhXj3dpldAe2dgHCBSUQCDUOh5Se7r2NGiUdO+YthHv2eLeegREuVSrcVod0dEkD06UBbaWsFK7zA8INJRAIZQ6H1Lat9zZqlHTihLcM7tnD6SQB5vKE/tFxURFS77Rvil8qU71AWKMEAuGkVSvvbehQ7zTxvn3SgQPSoUNSVZXpdGHN5Q7N86FTYr2Fb0C61CdNirbHZY0ARAkEwldiotS3r/fm8XhHBg8c8G4/c/So9z74jKuq2HSERnFI6pzsLX0D06VOyaYTATCFEgjYQUTEN9PGQ4d6Tyo5fNhbCA8ckPLzTScMea6q4Dw6ziGpXaJ3MUf3VlK/NlJyrOlUAIJBEP6RBcDvoqKkTp28N0kqK/OWwcOHvSuPCwok9pFvEld5gZRkOoV3OjcrReqW6r11TZUSok2nAhCMKIEApPh4qWdP703yXj+Yl+cthCdvZaF5zVuguMryjZTA1FipW6tvCl9Hl+SMCHwOAKGHEgjgdNHRUmam93ZSSUndUnjsGEfanSLKXa24SEvlfjw6LsIhdXB9Pcr3dfFjs2YAzUUJBNA4iYneW9eu3s89Hu+1hPn53unjkz8WFtp20YkryqNyHxwdF+30nsqRkSi1S5LaJUgZSVLbBCmSUT4APkIJBNA8ERHeU0xat657v8fj3bT6TAUxzEcOXc4aHW3C0XFJ0VJ64tdl7+tbRqJ3dI+NmQH4GyUQgG9FREgpKd5bly7f3G9ZUnGxd1q5tNR7O/nfJ3+sqDCV2ie+fXRctFNKifGuxk35+tbulMKXyIINAAY5LIslgACCRE2NdwHKqeWwosK7UKWy0ru1TWWl9/OTt0BOPTudUmSk95rJ2FgpLq7Oj3tadVV5bJKSY70LNuKiAhcNAJqKEgggtNXU1C2G1dXeUcdTbyeLYn0/RkR4y11kpHf7nJP//e0bc7QAwgglEAAAwIZYZwYAAGBDlEAAAAAbogQCAADYECUQAADAhiiBAAAANkQJBAAAsCFKIAAAgA1RAgEAAGyIEggAAGBDlEAAAAAbogQCAADYECUQAADAhiiBAAAANkQJBAAAsCFKIAAAgA1RAgEAAGyIEggAAGBDlEAAAAAbogQCAADYECUQAADAhiiBAAAANkQJBAAAsCFKIAAAgA1RAgEAAGyIEggAAGBDlEAAAAAbogQCAADYECUQAADAhiiBAAAANkQJBAAAsCFKIAAAgA1RAgEAAGyIEggAAGBDlEAAAAAbogQCAADYECUQAADAhiiBAAAANkQJBAAAsCFKIAAAgA1RAgEAAGyIEggAAGBDlEAAAAAbogQCAADYECUQAADAhiiBAAAANkQJBAAAsCFKIAAAgA1RAgEAAGyIEggAAGBDlEAAAAAbogQCAADYECUQAADAhiiBAAAANkQJBAAAsCFKIAAAgA1RAgEAAGyIEggAAGBDlEAAAAAbogQCAADYECUQAADAhiiBAAAANkQJBAAAsCFKIAAAgA1RAgEAAGyIEggAAGBDlEAAAAAbogQCAADYECUQAADAhiiBAAAANkQJBAAAsKH/H+W/mAedVC6QAAAAAElFTkSuQmCC",
      "text/plain": [
       "<Figure size 800x800 with 1 Axes>"
      ]
     },
     "metadata": {},
     "output_type": "display_data"
    }
   ],
   "source": [
    "# distribution of stress level\n",
    "plt.figure(figsize=(8, 8))  # Makes the figure square\n",
    "stress_counts = data['Stress_Level'].value_counts()\n",
    "plt.pie(stress_counts, labels=stress_counts.index, autopct='%1.1f%%', startangle=90, colors=['#ff9999','#66b3ff','#99ff99'])\n",
    "plt.title('Distribution of Stress Levels')\n",
    "plt.show()"
   ]
  },
  {
   "cell_type": "code",
   "execution_count": null,
   "metadata": {},
   "outputs": [
    {
     "name": "stderr",
     "output_type": "stream",
     "text": [
      "/Library/Frameworks/Python.framework/Versions/3.11/lib/python3.11/site-packages/seaborn/_oldcore.py:1498: FutureWarning: is_categorical_dtype is deprecated and will be removed in a future version. Use isinstance(dtype, CategoricalDtype) instead\n",
      "  if pd.api.types.is_categorical_dtype(vector):\n",
      "/Library/Frameworks/Python.framework/Versions/3.11/lib/python3.11/site-packages/seaborn/_oldcore.py:1498: FutureWarning: is_categorical_dtype is deprecated and will be removed in a future version. Use isinstance(dtype, CategoricalDtype) instead\n",
      "  if pd.api.types.is_categorical_dtype(vector):\n"
      "/var/folders/yd/p6hvs29537q2mn162wlst19m0000gn/T/ipykernel_44002/3233648894.py:5: FutureWarning: \n",
      "\n",
      "Passing `palette` without assigning `hue` is deprecated and will be removed in v0.14.0. Assign the `x` variable to `hue` and set `legend=False` for the same effect.\n",
      "\n",
      "  sns.boxplot(data=data, x='Stress_Level_Label', y='Study_Hours_Per_Day', order = category_order, palette=custom_palette)\n"
     ]
    },
    {
     "data": {
      "image/png": "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",
      "text/plain": [
       "<Figure size 640x480 with 1 Axes>"
      ]
     },
     "metadata": {},
     "output_type": "display_data"
    }
   ],
   "source": [
    "# specify the order of boxplots\n",
    "category_order = ['Low', 'Moderate', 'High']\n",
    "# GPA vs stress_level\n",
    "plt.figure(figsize=(8, 5))\n",
    "sns.boxplot(x='Stress_Level', y='GPA', data=data, order = category_order)\n",
    "plt.title('Distribution of GPA Across Stress Levels')\n",
    "plt.xlabel('Stress Level')\n",
    "plt.ylabel('GPA')\n",
    "plt.grid(True)\n",
    "stress_mapping = {30: 'Low', 40: 'Moderate', 50: 'High'}\n",
    "data['Stress_Level_Label'] = data['Stress_Level'].map(stress_mapping)\n",
    "category_order = ['Low', 'Moderate', 'High']\n",
    "custom_palette = {'Low': 'blue', 'Moderate': 'orange', 'High': 'green'}\n",
    "sns.boxplot(data=data, x='Stress_Level_Label', y='Study_Hours_Per_Day', order = category_order, palette=custom_palette)\n",
    "plt.title('Study Hours Distribution by Stress Level')\n",
    "plt.xlabel('Stress Level')\n",
    "plt.ylabel('Study Hours per Day')\n",
    "plt.show()"
   ]
  },
  {
   "cell_type": "markdown",
   "metadata": {},
   "source": [
    "# Data Cleaning"
   ]
  },
  {
   "cell_type": "code",
   "execution_count": 40,
   "metadata": {},
   "outputs": [
    {
     "data": {
      "text/plain": [
       "Index(['Study_Hours_Per_Day', 'Sleep_Hours_Per_Day', 'Social_Hours_Per_Day',\n",
       "       'Physical_Activity_Hours_Per_Day', 'GPA', 'Stress_Level'],\n",
       "      dtype='object')"
      ]
     },
     "execution_count": 40,
     "metadata": {},
     "output_type": "execute_result"
    }
   ],
   "source": [
    "selected_data = data.drop(columns = ['Extracurricular_Hours_Per_Day', 'Student_ID' ])\n",
    "selected_data.columns\n"
   ]
  },
  {
   "cell_type": "markdown",
   "metadata": {},
   "source": [
    "# Model Building "
   ]
  },
  {
   "cell_type": "markdown",
   "metadata": {},
   "source": [
    "## Decision tree"
   ]
  },
  {
   "cell_type": "code",
   "execution_count": 33,
   "metadata": {},
   "outputs": [
    {
     "ename": "KeyError",
     "evalue": "\"['Other_Variable'] not in index\"",
     "output_type": "error",
     "traceback": [
      "\u001b[0;31m---------------------------------------------------------------------------\u001b[0m",
      "\u001b[0;31mKeyError\u001b[0m                                  Traceback (most recent call last)",
      "Cell \u001b[0;32mIn[33], line 3\u001b[0m\n\u001b[1;32m      1\u001b[0m \u001b[38;5;66;03m### decision tree\u001b[39;00m\n\u001b[1;32m      2\u001b[0m \u001b[38;5;66;03m# split data\u001b[39;00m\n\u001b[0;32m----> 3\u001b[0m X \u001b[38;5;241m=\u001b[39m \u001b[43mdata\u001b[49m\u001b[43m[\u001b[49m\u001b[43m[\u001b[49m\u001b[38;5;124;43m'\u001b[39;49m\u001b[38;5;124;43mGPA\u001b[39;49m\u001b[38;5;124;43m'\u001b[39;49m\u001b[43m,\u001b[49m\u001b[43m \u001b[49m\u001b[38;5;124;43m'\u001b[39;49m\u001b[38;5;124;43mOther_Variable\u001b[39;49m\u001b[38;5;124;43m'\u001b[39;49m\u001b[43m]\u001b[49m\u001b[43m]\u001b[49m  \u001b[38;5;66;03m# Features\u001b[39;00m\n\u001b[1;32m      4\u001b[0m y \u001b[38;5;241m=\u001b[39m data[\u001b[38;5;124m'\u001b[39m\u001b[38;5;124mStress_Level\u001b[39m\u001b[38;5;124m'\u001b[39m]  \u001b[38;5;66;03m# Target variable\u001b[39;00m\n\u001b[1;32m      6\u001b[0m \u001b[38;5;66;03m# Splitting the dataset into train and test sets\u001b[39;00m\n",
      "File \u001b[0;32m/Library/Frameworks/Python.framework/Versions/3.11/lib/python3.11/site-packages/pandas/core/frame.py:3902\u001b[0m, in \u001b[0;36mDataFrame.__getitem__\u001b[0;34m(self, key)\u001b[0m\n\u001b[1;32m   3900\u001b[0m     \u001b[38;5;28;01mif\u001b[39;00m is_iterator(key):\n\u001b[1;32m   3901\u001b[0m         key \u001b[38;5;241m=\u001b[39m \u001b[38;5;28mlist\u001b[39m(key)\n\u001b[0;32m-> 3902\u001b[0m     indexer \u001b[38;5;241m=\u001b[39m \u001b[38;5;28;43mself\u001b[39;49m\u001b[38;5;241;43m.\u001b[39;49m\u001b[43mcolumns\u001b[49m\u001b[38;5;241;43m.\u001b[39;49m\u001b[43m_get_indexer_strict\u001b[49m\u001b[43m(\u001b[49m\u001b[43mkey\u001b[49m\u001b[43m,\u001b[49m\u001b[43m \u001b[49m\u001b[38;5;124;43m\"\u001b[39;49m\u001b[38;5;124;43mcolumns\u001b[39;49m\u001b[38;5;124;43m\"\u001b[39;49m\u001b[43m)\u001b[49m[\u001b[38;5;241m1\u001b[39m]\n\u001b[1;32m   3904\u001b[0m \u001b[38;5;66;03m# take() does not accept boolean indexers\u001b[39;00m\n\u001b[1;32m   3905\u001b[0m \u001b[38;5;28;01mif\u001b[39;00m \u001b[38;5;28mgetattr\u001b[39m(indexer, \u001b[38;5;124m\"\u001b[39m\u001b[38;5;124mdtype\u001b[39m\u001b[38;5;124m\"\u001b[39m, \u001b[38;5;28;01mNone\u001b[39;00m) \u001b[38;5;241m==\u001b[39m \u001b[38;5;28mbool\u001b[39m:\n",
      "File \u001b[0;32m/Library/Frameworks/Python.framework/Versions/3.11/lib/python3.11/site-packages/pandas/core/indexes/base.py:6114\u001b[0m, in \u001b[0;36mIndex._get_indexer_strict\u001b[0;34m(self, key, axis_name)\u001b[0m\n\u001b[1;32m   6111\u001b[0m \u001b[38;5;28;01melse\u001b[39;00m:\n\u001b[1;32m   6112\u001b[0m     keyarr, indexer, new_indexer \u001b[38;5;241m=\u001b[39m \u001b[38;5;28mself\u001b[39m\u001b[38;5;241m.\u001b[39m_reindex_non_unique(keyarr)\n\u001b[0;32m-> 6114\u001b[0m \u001b[38;5;28;43mself\u001b[39;49m\u001b[38;5;241;43m.\u001b[39;49m\u001b[43m_raise_if_missing\u001b[49m\u001b[43m(\u001b[49m\u001b[43mkeyarr\u001b[49m\u001b[43m,\u001b[49m\u001b[43m \u001b[49m\u001b[43mindexer\u001b[49m\u001b[43m,\u001b[49m\u001b[43m \u001b[49m\u001b[43maxis_name\u001b[49m\u001b[43m)\u001b[49m\n\u001b[1;32m   6116\u001b[0m keyarr \u001b[38;5;241m=\u001b[39m \u001b[38;5;28mself\u001b[39m\u001b[38;5;241m.\u001b[39mtake(indexer)\n\u001b[1;32m   6117\u001b[0m \u001b[38;5;28;01mif\u001b[39;00m \u001b[38;5;28misinstance\u001b[39m(key, Index):\n\u001b[1;32m   6118\u001b[0m     \u001b[38;5;66;03m# GH 42790 - Preserve name from an Index\u001b[39;00m\n",
      "File \u001b[0;32m/Library/Frameworks/Python.framework/Versions/3.11/lib/python3.11/site-packages/pandas/core/indexes/base.py:6178\u001b[0m, in \u001b[0;36mIndex._raise_if_missing\u001b[0;34m(self, key, indexer, axis_name)\u001b[0m\n\u001b[1;32m   6175\u001b[0m     \u001b[38;5;28;01mraise\u001b[39;00m \u001b[38;5;167;01mKeyError\u001b[39;00m(\u001b[38;5;124mf\u001b[39m\u001b[38;5;124m\"\u001b[39m\u001b[38;5;124mNone of [\u001b[39m\u001b[38;5;132;01m{\u001b[39;00mkey\u001b[38;5;132;01m}\u001b[39;00m\u001b[38;5;124m] are in the [\u001b[39m\u001b[38;5;132;01m{\u001b[39;00maxis_name\u001b[38;5;132;01m}\u001b[39;00m\u001b[38;5;124m]\u001b[39m\u001b[38;5;124m\"\u001b[39m)\n\u001b[1;32m   6177\u001b[0m not_found \u001b[38;5;241m=\u001b[39m \u001b[38;5;28mlist\u001b[39m(ensure_index(key)[missing_mask\u001b[38;5;241m.\u001b[39mnonzero()[\u001b[38;5;241m0\u001b[39m]]\u001b[38;5;241m.\u001b[39munique())\n\u001b[0;32m-> 6178\u001b[0m \u001b[38;5;28;01mraise\u001b[39;00m \u001b[38;5;167;01mKeyError\u001b[39;00m(\u001b[38;5;124mf\u001b[39m\u001b[38;5;124m\"\u001b[39m\u001b[38;5;132;01m{\u001b[39;00mnot_found\u001b[38;5;132;01m}\u001b[39;00m\u001b[38;5;124m not in index\u001b[39m\u001b[38;5;124m\"\u001b[39m)\n",
      "\u001b[0;31mKeyError\u001b[0m: \"['Other_Variable'] not in index\""
     ]
    }
   ],
   "source": [
    "### decision tree\n",
    "# split data\n",
    "X = data[['Study_Hours_Per_Day', 'Sleep_Hours_Per_Day', 'Social_Hours_Per_Day',\n",
    "       'Physical_Activity_Hours_Per_Day', 'GPA']]  # Features\n",
    "y = data['Stress_Level']  # Target variable\n",
    "\n",
    "# Splitting the dataset into train and test sets\n",
    "X_train, X_test, y_train, y_test = train_test_split(X, y, test_size=0.3, random_state=42)\n"
   ]
  },
  {
   "cell_type": "code",
   "execution_count": null,
   "metadata": {},
   "outputs": [],
   "source": [
    "# Initialize the Decision Tree Classifier\n",
    "clf = DecisionTreeClassifier(random_state=42)\n",
    "# Training the model\n",
    "clf.fit(X_train, y_train)"
   ]
  },
  {
   "cell_type": "code",
   "execution_count": null,
   "metadata": {},
   "outputs": [],
   "source": []
  }
 ],
 "metadata": {
  "kernelspec": {
   "display_name": "Python 3",
   "language": "python",
   "name": "python3"
  },
  "language_info": {
   "codemirror_mode": {
    "name": "ipython",
    "version": 3
   },
   "file_extension": ".py",
   "mimetype": "text/x-python",
   "name": "python",
   "nbconvert_exporter": "python",
   "pygments_lexer": "ipython3",
   "version": "3.11.1"
  }
 },
 "nbformat": 4,
 "nbformat_minor": 2
}
